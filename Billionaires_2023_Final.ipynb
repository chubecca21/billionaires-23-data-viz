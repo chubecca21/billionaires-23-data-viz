{
 "cells": [
  {
   "cell_type": "markdown",
   "id": "3fce6020-c95f-4ff4-a743-f16bd1c6b39a",
   "metadata": {},
   "source": [
    "# Billionaires 2023 Exploratory Data Analysis\n",
    "**Author:** Rebecca Chu\n",
    "***\n",
    "\n",
    "## Overview\n",
    "\n",
    "This notebook contains data preparation of 2023 billionaire statistics for the data visualisation: ... . \n",
    "\n",
    "The original Billionaires dataset was split into four smaller dataframes to explore the following:\n",
    "* Is wealth concentrated in certain countries? Which countries have the highest number of billionaires?\n",
    "* Is there a correlation between economic and education indicators with the presence of wealth?\n",
    "* What common traits do billionaires share? Which star sign/ birth month is the most popular among billionaries?\n",
    "\n",
    "These can be found in the `data_prepared` folder."
   ]
  },
  {
   "cell_type": "code",
   "execution_count": 1,
   "id": "4be905f5-dd25-4a1d-8e78-776069ecd01b",
   "metadata": {},
   "outputs": [],
   "source": [
    "import pandas as pd\n",
    "import numpy as np\n",
    "import matplotlib.pyplot as plt\n",
    "import seaborn as sns"
   ]
  },
  {
   "cell_type": "markdown",
   "id": "16b3667b-ee6c-4db2-a837-b1a0373d1e8e",
   "metadata": {},
   "source": [
    "## Data Understanding\n",
    "\n",
    "Data from `Billionaires Statistics Dataset.csv` was sourced from Kaggle and can be found here: https://www.kaggle.com/datasets/nelgiriyewithana/billionaires-statistics-dataset/. It contains statistics on the world's billionaires as sourced on the 4th of April, 2023."
   ]
  },
  {
   "cell_type": "code",
   "execution_count": 2,
   "id": "9b9bf551-db5f-48ac-81e0-d7f234cb1973",
   "metadata": {},
   "outputs": [
    {
     "data": {
      "text/html": [
       "<div>\n",
       "<style scoped>\n",
       "    .dataframe tbody tr th:only-of-type {\n",
       "        vertical-align: middle;\n",
       "    }\n",
       "\n",
       "    .dataframe tbody tr th {\n",
       "        vertical-align: top;\n",
       "    }\n",
       "\n",
       "    .dataframe thead th {\n",
       "        text-align: right;\n",
       "    }\n",
       "</style>\n",
       "<table border=\"1\" class=\"dataframe\">\n",
       "  <thead>\n",
       "    <tr style=\"text-align: right;\">\n",
       "      <th></th>\n",
       "      <th>rank</th>\n",
       "      <th>finalWorth</th>\n",
       "      <th>category</th>\n",
       "      <th>personName</th>\n",
       "      <th>age</th>\n",
       "      <th>country</th>\n",
       "      <th>city</th>\n",
       "      <th>source</th>\n",
       "      <th>industries</th>\n",
       "      <th>countryOfCitizenship</th>\n",
       "      <th>...</th>\n",
       "      <th>cpi_change_country</th>\n",
       "      <th>gdp_country</th>\n",
       "      <th>gross_tertiary_education_enrollment</th>\n",
       "      <th>gross_primary_education_enrollment_country</th>\n",
       "      <th>life_expectancy_country</th>\n",
       "      <th>tax_revenue_country_country</th>\n",
       "      <th>total_tax_rate_country</th>\n",
       "      <th>population_country</th>\n",
       "      <th>latitude_country</th>\n",
       "      <th>longitude_country</th>\n",
       "    </tr>\n",
       "  </thead>\n",
       "  <tbody>\n",
       "    <tr>\n",
       "      <th>0</th>\n",
       "      <td>1</td>\n",
       "      <td>211000</td>\n",
       "      <td>Fashion &amp; Retail</td>\n",
       "      <td>Bernard Arnault &amp; family</td>\n",
       "      <td>74.0</td>\n",
       "      <td>France</td>\n",
       "      <td>Paris</td>\n",
       "      <td>LVMH</td>\n",
       "      <td>Fashion &amp; Retail</td>\n",
       "      <td>France</td>\n",
       "      <td>...</td>\n",
       "      <td>1.1</td>\n",
       "      <td>$2,715,518,274,227</td>\n",
       "      <td>65.6</td>\n",
       "      <td>102.5</td>\n",
       "      <td>82.5</td>\n",
       "      <td>24.2</td>\n",
       "      <td>60.7</td>\n",
       "      <td>67059887.0</td>\n",
       "      <td>46.227638</td>\n",
       "      <td>2.213749</td>\n",
       "    </tr>\n",
       "    <tr>\n",
       "      <th>1</th>\n",
       "      <td>2</td>\n",
       "      <td>180000</td>\n",
       "      <td>Automotive</td>\n",
       "      <td>Elon Musk</td>\n",
       "      <td>51.0</td>\n",
       "      <td>United States</td>\n",
       "      <td>Austin</td>\n",
       "      <td>Tesla, SpaceX</td>\n",
       "      <td>Automotive</td>\n",
       "      <td>United States</td>\n",
       "      <td>...</td>\n",
       "      <td>7.5</td>\n",
       "      <td>$21,427,700,000,000</td>\n",
       "      <td>88.2</td>\n",
       "      <td>101.8</td>\n",
       "      <td>78.5</td>\n",
       "      <td>9.6</td>\n",
       "      <td>36.6</td>\n",
       "      <td>328239523.0</td>\n",
       "      <td>37.090240</td>\n",
       "      <td>-95.712891</td>\n",
       "    </tr>\n",
       "    <tr>\n",
       "      <th>2</th>\n",
       "      <td>3</td>\n",
       "      <td>114000</td>\n",
       "      <td>Technology</td>\n",
       "      <td>Jeff Bezos</td>\n",
       "      <td>59.0</td>\n",
       "      <td>United States</td>\n",
       "      <td>Medina</td>\n",
       "      <td>Amazon</td>\n",
       "      <td>Technology</td>\n",
       "      <td>United States</td>\n",
       "      <td>...</td>\n",
       "      <td>7.5</td>\n",
       "      <td>$21,427,700,000,000</td>\n",
       "      <td>88.2</td>\n",
       "      <td>101.8</td>\n",
       "      <td>78.5</td>\n",
       "      <td>9.6</td>\n",
       "      <td>36.6</td>\n",
       "      <td>328239523.0</td>\n",
       "      <td>37.090240</td>\n",
       "      <td>-95.712891</td>\n",
       "    </tr>\n",
       "    <tr>\n",
       "      <th>3</th>\n",
       "      <td>4</td>\n",
       "      <td>107000</td>\n",
       "      <td>Technology</td>\n",
       "      <td>Larry Ellison</td>\n",
       "      <td>78.0</td>\n",
       "      <td>United States</td>\n",
       "      <td>Lanai</td>\n",
       "      <td>Oracle</td>\n",
       "      <td>Technology</td>\n",
       "      <td>United States</td>\n",
       "      <td>...</td>\n",
       "      <td>7.5</td>\n",
       "      <td>$21,427,700,000,000</td>\n",
       "      <td>88.2</td>\n",
       "      <td>101.8</td>\n",
       "      <td>78.5</td>\n",
       "      <td>9.6</td>\n",
       "      <td>36.6</td>\n",
       "      <td>328239523.0</td>\n",
       "      <td>37.090240</td>\n",
       "      <td>-95.712891</td>\n",
       "    </tr>\n",
       "    <tr>\n",
       "      <th>4</th>\n",
       "      <td>5</td>\n",
       "      <td>106000</td>\n",
       "      <td>Finance &amp; Investments</td>\n",
       "      <td>Warren Buffett</td>\n",
       "      <td>92.0</td>\n",
       "      <td>United States</td>\n",
       "      <td>Omaha</td>\n",
       "      <td>Berkshire Hathaway</td>\n",
       "      <td>Finance &amp; Investments</td>\n",
       "      <td>United States</td>\n",
       "      <td>...</td>\n",
       "      <td>7.5</td>\n",
       "      <td>$21,427,700,000,000</td>\n",
       "      <td>88.2</td>\n",
       "      <td>101.8</td>\n",
       "      <td>78.5</td>\n",
       "      <td>9.6</td>\n",
       "      <td>36.6</td>\n",
       "      <td>328239523.0</td>\n",
       "      <td>37.090240</td>\n",
       "      <td>-95.712891</td>\n",
       "    </tr>\n",
       "  </tbody>\n",
       "</table>\n",
       "<p>5 rows × 35 columns</p>\n",
       "</div>"
      ],
      "text/plain": [
       "   rank  finalWorth               category                personName   age  \\\n",
       "0     1      211000       Fashion & Retail  Bernard Arnault & family  74.0   \n",
       "1     2      180000             Automotive                 Elon Musk  51.0   \n",
       "2     3      114000             Technology                Jeff Bezos  59.0   \n",
       "3     4      107000             Technology             Larry Ellison  78.0   \n",
       "4     5      106000  Finance & Investments            Warren Buffett  92.0   \n",
       "\n",
       "         country    city              source             industries  \\\n",
       "0         France   Paris                LVMH       Fashion & Retail   \n",
       "1  United States  Austin       Tesla, SpaceX             Automotive   \n",
       "2  United States  Medina              Amazon             Technology   \n",
       "3  United States   Lanai              Oracle             Technology   \n",
       "4  United States   Omaha  Berkshire Hathaway  Finance & Investments   \n",
       "\n",
       "  countryOfCitizenship  ... cpi_change_country           gdp_country  \\\n",
       "0               France  ...                1.1   $2,715,518,274,227    \n",
       "1        United States  ...                7.5  $21,427,700,000,000    \n",
       "2        United States  ...                7.5  $21,427,700,000,000    \n",
       "3        United States  ...                7.5  $21,427,700,000,000    \n",
       "4        United States  ...                7.5  $21,427,700,000,000    \n",
       "\n",
       "  gross_tertiary_education_enrollment  \\\n",
       "0                                65.6   \n",
       "1                                88.2   \n",
       "2                                88.2   \n",
       "3                                88.2   \n",
       "4                                88.2   \n",
       "\n",
       "  gross_primary_education_enrollment_country life_expectancy_country  \\\n",
       "0                                      102.5                    82.5   \n",
       "1                                      101.8                    78.5   \n",
       "2                                      101.8                    78.5   \n",
       "3                                      101.8                    78.5   \n",
       "4                                      101.8                    78.5   \n",
       "\n",
       "  tax_revenue_country_country total_tax_rate_country population_country  \\\n",
       "0                        24.2                   60.7         67059887.0   \n",
       "1                         9.6                   36.6        328239523.0   \n",
       "2                         9.6                   36.6        328239523.0   \n",
       "3                         9.6                   36.6        328239523.0   \n",
       "4                         9.6                   36.6        328239523.0   \n",
       "\n",
       "  latitude_country longitude_country  \n",
       "0        46.227638          2.213749  \n",
       "1        37.090240        -95.712891  \n",
       "2        37.090240        -95.712891  \n",
       "3        37.090240        -95.712891  \n",
       "4        37.090240        -95.712891  \n",
       "\n",
       "[5 rows x 35 columns]"
      ]
     },
     "execution_count": 2,
     "metadata": {},
     "output_type": "execute_result"
    }
   ],
   "source": [
    "bill = pd.read_csv('./data/Billionaires Statistics Dataset.csv')\n",
    "bill.head()"
   ]
  },
  {
   "cell_type": "markdown",
   "id": "32af54aa-aa90-4bd8-abe6-26ce1f684346",
   "metadata": {},
   "source": [
    "## Data Preparation\n",
    "#### Billionaires Statistics Dataset"
   ]
  },
  {
   "cell_type": "code",
   "execution_count": 3,
   "id": "f3803275-ff40-4360-86bd-15d32783c234",
   "metadata": {},
   "outputs": [
    {
     "name": "stdout",
     "output_type": "stream",
     "text": [
      "<class 'pandas.core.frame.DataFrame'>\n",
      "RangeIndex: 2640 entries, 0 to 2639\n",
      "Data columns (total 35 columns):\n",
      " #   Column                                      Non-Null Count  Dtype  \n",
      "---  ------                                      --------------  -----  \n",
      " 0   rank                                        2640 non-null   int64  \n",
      " 1   finalWorth                                  2640 non-null   int64  \n",
      " 2   category                                    2640 non-null   object \n",
      " 3   personName                                  2640 non-null   object \n",
      " 4   age                                         2575 non-null   float64\n",
      " 5   country                                     2602 non-null   object \n",
      " 6   city                                        2568 non-null   object \n",
      " 7   source                                      2640 non-null   object \n",
      " 8   industries                                  2640 non-null   object \n",
      " 9   countryOfCitizenship                        2640 non-null   object \n",
      " 10  organization                                325 non-null    object \n",
      " 11  selfMade                                    2640 non-null   bool   \n",
      " 12  status                                      2640 non-null   object \n",
      " 13  gender                                      2640 non-null   object \n",
      " 14  birthDate                                   2564 non-null   object \n",
      " 15  lastName                                    2640 non-null   object \n",
      " 16  firstName                                   2637 non-null   object \n",
      " 17  title                                       339 non-null    object \n",
      " 18  date                                        2640 non-null   object \n",
      " 19  state                                       753 non-null    object \n",
      " 20  residenceStateRegion                        747 non-null    object \n",
      " 21  birthYear                                   2564 non-null   float64\n",
      " 22  birthMonth                                  2564 non-null   float64\n",
      " 23  birthDay                                    2564 non-null   float64\n",
      " 24  cpi_country                                 2456 non-null   float64\n",
      " 25  cpi_change_country                          2456 non-null   float64\n",
      " 26  gdp_country                                 2476 non-null   object \n",
      " 27  gross_tertiary_education_enrollment         2458 non-null   float64\n",
      " 28  gross_primary_education_enrollment_country  2459 non-null   float64\n",
      " 29  life_expectancy_country                     2458 non-null   float64\n",
      " 30  tax_revenue_country_country                 2457 non-null   float64\n",
      " 31  total_tax_rate_country                      2458 non-null   float64\n",
      " 32  population_country                          2476 non-null   float64\n",
      " 33  latitude_country                            2476 non-null   float64\n",
      " 34  longitude_country                           2476 non-null   float64\n",
      "dtypes: bool(1), float64(14), int64(2), object(18)\n",
      "memory usage: 704.0+ KB\n"
     ]
    }
   ],
   "source": [
    "bill.info()"
   ]
  },
  {
   "cell_type": "markdown",
   "id": "e3a8b413-c2e7-4dc1-bc7d-c9ee45f8c461",
   "metadata": {},
   "source": [
    "As I could not verify the accuracy of the economic indicators, education or tax data, these columns were excluded from analysis and statistics were sourced elsewhere. "
   ]
  },
  {
   "cell_type": "code",
   "execution_count": 4,
   "id": "0e812df1-370e-4d9b-8cd3-9ba3ccdd1309",
   "metadata": {},
   "outputs": [],
   "source": [
    "# creating new dataframe with relevant columns \n",
    "bill = bill[['rank',\n",
    "             'finalWorth',\n",
    "             'personName',\n",
    "             'age',\n",
    "             'country',\n",
    "             'city',\n",
    "             'source',\n",
    "             'industries',\n",
    "             'countryOfCitizenship',\n",
    "             'selfMade',\n",
    "             'gender',\n",
    "             'birthDate']]"
   ]
  },
  {
   "cell_type": "code",
   "execution_count": 5,
   "id": "443a7c7b-cbf3-47bf-b931-dbd04eb3eb42",
   "metadata": {},
   "outputs": [],
   "source": [
    "# converting birthDate into datetime datatype\n",
    "bill.birthDate = pd.to_datetime(bill.birthDate)"
   ]
  },
  {
   "cell_type": "code",
   "execution_count": 6,
   "id": "7118445b-73a3-41ff-bd2a-3ec5a8b724bf",
   "metadata": {},
   "outputs": [],
   "source": [
    "# converting finalWorth to billions \n",
    "bill.finalWorth = bill.finalWorth * 1000000 "
   ]
  },
  {
   "cell_type": "markdown",
   "id": "35566c2d-989a-437b-9d31-e93ab5f74ddc",
   "metadata": {},
   "source": [
    "### Is wealth concentrated in certain countries?"
   ]
  },
  {
   "cell_type": "markdown",
   "id": "54d597a0-70e2-4028-b206-2d20c60de739",
   "metadata": {},
   "source": [
    "The Human Development Index (HDI) is a summary metric of average achievement in key dimensions of human development and is calculated using a various indicators such as life expectancy, schooling, GDP per capita and the multidimensional poverty index.\n",
    "\n",
    "Countries with a higher HDI have more stable governments, affordable and accessible education and healthcare, higher life expectancies and quality of life. \n",
    "\n",
    "The below dataset was retrieved from the Human Development Report Office website (https://hdr.undp.org/data-center/human-development-index#/indicies/HDI). "
   ]
  },
  {
   "cell_type": "code",
   "execution_count": 7,
   "id": "be6f9ef2-dd4d-4578-96b6-0f6921ecd9aa",
   "metadata": {},
   "outputs": [
    {
     "data": {
      "text/html": [
       "<div>\n",
       "<style scoped>\n",
       "    .dataframe tbody tr th:only-of-type {\n",
       "        vertical-align: middle;\n",
       "    }\n",
       "\n",
       "    .dataframe tbody tr th {\n",
       "        vertical-align: top;\n",
       "    }\n",
       "\n",
       "    .dataframe thead th {\n",
       "        text-align: right;\n",
       "    }\n",
       "</style>\n",
       "<table border=\"1\" class=\"dataframe\">\n",
       "  <thead>\n",
       "    <tr style=\"text-align: right;\">\n",
       "      <th></th>\n",
       "      <th>Unnamed: 0</th>\n",
       "      <th>Unnamed: 1</th>\n",
       "      <th>Human Development Index (HDI)</th>\n",
       "      <th>Unnamed: 3</th>\n",
       "      <th>Life expectancy at birth</th>\n",
       "      <th>Unnamed: 5</th>\n",
       "      <th>Expected years of schooling</th>\n",
       "      <th>Unnamed: 7</th>\n",
       "      <th>Mean years of schooling</th>\n",
       "      <th>Unnamed: 9</th>\n",
       "      <th>...</th>\n",
       "      <th>Unnamed: 17</th>\n",
       "      <th>Unnamed: 18</th>\n",
       "      <th>Unnamed: 19</th>\n",
       "      <th>Unnamed: 20</th>\n",
       "      <th>Unnamed: 21</th>\n",
       "      <th>Unnamed: 22</th>\n",
       "      <th>Unnamed: 23</th>\n",
       "      <th>Unnamed: 24</th>\n",
       "      <th>Unnamed: 25</th>\n",
       "      <th>Unnamed: 26</th>\n",
       "    </tr>\n",
       "  </thead>\n",
       "  <tbody>\n",
       "    <tr>\n",
       "      <th>0</th>\n",
       "      <td>HDI rank</td>\n",
       "      <td>Country</td>\n",
       "      <td>Value</td>\n",
       "      <td>NaN</td>\n",
       "      <td>(years)</td>\n",
       "      <td>NaN</td>\n",
       "      <td>(years)</td>\n",
       "      <td>NaN</td>\n",
       "      <td>(years)</td>\n",
       "      <td>NaN</td>\n",
       "      <td>...</td>\n",
       "      <td>NaN</td>\n",
       "      <td>NaN</td>\n",
       "      <td>NaN</td>\n",
       "      <td>NaN</td>\n",
       "      <td>NaN</td>\n",
       "      <td>NaN</td>\n",
       "      <td>NaN</td>\n",
       "      <td>NaN</td>\n",
       "      <td>NaN</td>\n",
       "      <td>NaN</td>\n",
       "    </tr>\n",
       "    <tr>\n",
       "      <th>1</th>\n",
       "      <td>NaN</td>\n",
       "      <td>NaN</td>\n",
       "      <td>2021</td>\n",
       "      <td>NaN</td>\n",
       "      <td>2021</td>\n",
       "      <td>NaN</td>\n",
       "      <td>2021</td>\n",
       "      <td>a</td>\n",
       "      <td>2021</td>\n",
       "      <td>a</td>\n",
       "      <td>...</td>\n",
       "      <td>NaN</td>\n",
       "      <td>NaN</td>\n",
       "      <td>NaN</td>\n",
       "      <td>NaN</td>\n",
       "      <td>NaN</td>\n",
       "      <td>NaN</td>\n",
       "      <td>NaN</td>\n",
       "      <td>NaN</td>\n",
       "      <td>NaN</td>\n",
       "      <td>NaN</td>\n",
       "    </tr>\n",
       "    <tr>\n",
       "      <th>2</th>\n",
       "      <td>NaN</td>\n",
       "      <td>VERY HIGH HUMAN DEVELOPMENT</td>\n",
       "      <td>NaN</td>\n",
       "      <td>NaN</td>\n",
       "      <td>NaN</td>\n",
       "      <td>NaN</td>\n",
       "      <td>NaN</td>\n",
       "      <td>NaN</td>\n",
       "      <td>NaN</td>\n",
       "      <td>NaN</td>\n",
       "      <td>...</td>\n",
       "      <td>NaN</td>\n",
       "      <td>NaN</td>\n",
       "      <td>NaN</td>\n",
       "      <td>NaN</td>\n",
       "      <td>NaN</td>\n",
       "      <td>NaN</td>\n",
       "      <td>NaN</td>\n",
       "      <td>NaN</td>\n",
       "      <td>NaN</td>\n",
       "      <td>NaN</td>\n",
       "    </tr>\n",
       "    <tr>\n",
       "      <th>3</th>\n",
       "      <td>1</td>\n",
       "      <td>Switzerland</td>\n",
       "      <td>0.962</td>\n",
       "      <td>NaN</td>\n",
       "      <td>84.0</td>\n",
       "      <td>NaN</td>\n",
       "      <td>16.5</td>\n",
       "      <td>NaN</td>\n",
       "      <td>13.9</td>\n",
       "      <td>NaN</td>\n",
       "      <td>...</td>\n",
       "      <td>NaN</td>\n",
       "      <td>NaN</td>\n",
       "      <td>NaN</td>\n",
       "      <td>NaN</td>\n",
       "      <td>NaN</td>\n",
       "      <td>NaN</td>\n",
       "      <td>NaN</td>\n",
       "      <td>NaN</td>\n",
       "      <td>NaN</td>\n",
       "      <td>NaN</td>\n",
       "    </tr>\n",
       "    <tr>\n",
       "      <th>4</th>\n",
       "      <td>2</td>\n",
       "      <td>Norway</td>\n",
       "      <td>0.961</td>\n",
       "      <td>NaN</td>\n",
       "      <td>83.2</td>\n",
       "      <td>NaN</td>\n",
       "      <td>18.2</td>\n",
       "      <td>c</td>\n",
       "      <td>13.0</td>\n",
       "      <td>NaN</td>\n",
       "      <td>...</td>\n",
       "      <td>NaN</td>\n",
       "      <td>NaN</td>\n",
       "      <td>NaN</td>\n",
       "      <td>NaN</td>\n",
       "      <td>NaN</td>\n",
       "      <td>NaN</td>\n",
       "      <td>NaN</td>\n",
       "      <td>NaN</td>\n",
       "      <td>NaN</td>\n",
       "      <td>NaN</td>\n",
       "    </tr>\n",
       "    <tr>\n",
       "      <th>5</th>\n",
       "      <td>3</td>\n",
       "      <td>Iceland</td>\n",
       "      <td>0.959</td>\n",
       "      <td>NaN</td>\n",
       "      <td>82.7</td>\n",
       "      <td>NaN</td>\n",
       "      <td>19.2</td>\n",
       "      <td>c</td>\n",
       "      <td>13.8</td>\n",
       "      <td>NaN</td>\n",
       "      <td>...</td>\n",
       "      <td>NaN</td>\n",
       "      <td>NaN</td>\n",
       "      <td>NaN</td>\n",
       "      <td>NaN</td>\n",
       "      <td>NaN</td>\n",
       "      <td>NaN</td>\n",
       "      <td>NaN</td>\n",
       "      <td>NaN</td>\n",
       "      <td>NaN</td>\n",
       "      <td>NaN</td>\n",
       "    </tr>\n",
       "    <tr>\n",
       "      <th>6</th>\n",
       "      <td>4</td>\n",
       "      <td>Hong Kong, China (SAR)</td>\n",
       "      <td>0.952</td>\n",
       "      <td>NaN</td>\n",
       "      <td>85.5</td>\n",
       "      <td>d</td>\n",
       "      <td>17.3</td>\n",
       "      <td>NaN</td>\n",
       "      <td>12.2</td>\n",
       "      <td>NaN</td>\n",
       "      <td>...</td>\n",
       "      <td>NaN</td>\n",
       "      <td>NaN</td>\n",
       "      <td>NaN</td>\n",
       "      <td>NaN</td>\n",
       "      <td>NaN</td>\n",
       "      <td>NaN</td>\n",
       "      <td>NaN</td>\n",
       "      <td>NaN</td>\n",
       "      <td>NaN</td>\n",
       "      <td>NaN</td>\n",
       "    </tr>\n",
       "    <tr>\n",
       "      <th>7</th>\n",
       "      <td>5</td>\n",
       "      <td>Australia</td>\n",
       "      <td>0.951</td>\n",
       "      <td>NaN</td>\n",
       "      <td>84.5</td>\n",
       "      <td>NaN</td>\n",
       "      <td>21.1</td>\n",
       "      <td>c</td>\n",
       "      <td>12.7</td>\n",
       "      <td>NaN</td>\n",
       "      <td>...</td>\n",
       "      <td>NaN</td>\n",
       "      <td>NaN</td>\n",
       "      <td>NaN</td>\n",
       "      <td>NaN</td>\n",
       "      <td>NaN</td>\n",
       "      <td>NaN</td>\n",
       "      <td>NaN</td>\n",
       "      <td>NaN</td>\n",
       "      <td>NaN</td>\n",
       "      <td>NaN</td>\n",
       "    </tr>\n",
       "    <tr>\n",
       "      <th>8</th>\n",
       "      <td>6</td>\n",
       "      <td>Denmark</td>\n",
       "      <td>0.948</td>\n",
       "      <td>NaN</td>\n",
       "      <td>81.4</td>\n",
       "      <td>NaN</td>\n",
       "      <td>18.7</td>\n",
       "      <td>c</td>\n",
       "      <td>13.0</td>\n",
       "      <td>NaN</td>\n",
       "      <td>...</td>\n",
       "      <td>NaN</td>\n",
       "      <td>NaN</td>\n",
       "      <td>NaN</td>\n",
       "      <td>NaN</td>\n",
       "      <td>NaN</td>\n",
       "      <td>NaN</td>\n",
       "      <td>NaN</td>\n",
       "      <td>NaN</td>\n",
       "      <td>NaN</td>\n",
       "      <td>NaN</td>\n",
       "    </tr>\n",
       "    <tr>\n",
       "      <th>9</th>\n",
       "      <td>7</td>\n",
       "      <td>Sweden</td>\n",
       "      <td>0.947</td>\n",
       "      <td>NaN</td>\n",
       "      <td>83.0</td>\n",
       "      <td>NaN</td>\n",
       "      <td>19.4</td>\n",
       "      <td>c</td>\n",
       "      <td>12.6</td>\n",
       "      <td>NaN</td>\n",
       "      <td>...</td>\n",
       "      <td>NaN</td>\n",
       "      <td>NaN</td>\n",
       "      <td>NaN</td>\n",
       "      <td>NaN</td>\n",
       "      <td>NaN</td>\n",
       "      <td>NaN</td>\n",
       "      <td>NaN</td>\n",
       "      <td>NaN</td>\n",
       "      <td>NaN</td>\n",
       "      <td>NaN</td>\n",
       "    </tr>\n",
       "  </tbody>\n",
       "</table>\n",
       "<p>10 rows × 27 columns</p>\n",
       "</div>"
      ],
      "text/plain": [
       "  Unnamed: 0                   Unnamed: 1 Human Development Index (HDI)   \\\n",
       "0   HDI rank                      Country                          Value   \n",
       "1        NaN                          NaN                           2021   \n",
       "2        NaN  VERY HIGH HUMAN DEVELOPMENT                            NaN   \n",
       "3          1                  Switzerland                          0.962   \n",
       "4          2                       Norway                          0.961   \n",
       "5          3                      Iceland                          0.959   \n",
       "6          4       Hong Kong, China (SAR)                          0.952   \n",
       "7          5                    Australia                          0.951   \n",
       "8          6                      Denmark                          0.948   \n",
       "9          7                       Sweden                          0.947   \n",
       "\n",
       "   Unnamed: 3 Life expectancy at birth Unnamed: 5 Expected years of schooling  \\\n",
       "0         NaN                  (years)        NaN                     (years)   \n",
       "1         NaN                     2021        NaN                        2021   \n",
       "2         NaN                      NaN        NaN                         NaN   \n",
       "3         NaN                     84.0        NaN                        16.5   \n",
       "4         NaN                     83.2        NaN                        18.2   \n",
       "5         NaN                     82.7        NaN                        19.2   \n",
       "6         NaN                     85.5          d                        17.3   \n",
       "7         NaN                     84.5        NaN                        21.1   \n",
       "8         NaN                     81.4        NaN                        18.7   \n",
       "9         NaN                     83.0        NaN                        19.4   \n",
       "\n",
       "  Unnamed: 7 Mean years of schooling Unnamed: 9  ... Unnamed: 17 Unnamed: 18  \\\n",
       "0        NaN                 (years)        NaN  ...         NaN         NaN   \n",
       "1          a                    2021          a  ...         NaN         NaN   \n",
       "2        NaN                     NaN        NaN  ...         NaN         NaN   \n",
       "3        NaN                    13.9        NaN  ...         NaN         NaN   \n",
       "4          c                    13.0        NaN  ...         NaN         NaN   \n",
       "5          c                    13.8        NaN  ...         NaN         NaN   \n",
       "6        NaN                    12.2        NaN  ...         NaN         NaN   \n",
       "7          c                    12.7        NaN  ...         NaN         NaN   \n",
       "8          c                    13.0        NaN  ...         NaN         NaN   \n",
       "9          c                    12.6        NaN  ...         NaN         NaN   \n",
       "\n",
       "  Unnamed: 19 Unnamed: 20 Unnamed: 21  Unnamed: 22  Unnamed: 23  Unnamed: 24  \\\n",
       "0         NaN         NaN         NaN          NaN          NaN          NaN   \n",
       "1         NaN         NaN         NaN          NaN          NaN          NaN   \n",
       "2         NaN         NaN         NaN          NaN          NaN          NaN   \n",
       "3         NaN         NaN         NaN          NaN          NaN          NaN   \n",
       "4         NaN         NaN         NaN          NaN          NaN          NaN   \n",
       "5         NaN         NaN         NaN          NaN          NaN          NaN   \n",
       "6         NaN         NaN         NaN          NaN          NaN          NaN   \n",
       "7         NaN         NaN         NaN          NaN          NaN          NaN   \n",
       "8         NaN         NaN         NaN          NaN          NaN          NaN   \n",
       "9         NaN         NaN         NaN          NaN          NaN          NaN   \n",
       "\n",
       "   Unnamed: 25  Unnamed: 26  \n",
       "0          NaN          NaN  \n",
       "1          NaN          NaN  \n",
       "2          NaN          NaN  \n",
       "3          NaN          NaN  \n",
       "4          NaN          NaN  \n",
       "5          NaN          NaN  \n",
       "6          NaN          NaN  \n",
       "7          NaN          NaN  \n",
       "8          NaN          NaN  \n",
       "9          NaN          NaN  \n",
       "\n",
       "[10 rows x 27 columns]"
      ]
     },
     "execution_count": 7,
     "metadata": {},
     "output_type": "execute_result"
    }
   ],
   "source": [
    "hdi = pd.read_csv('./data/HDR21-22_Statistical_Annex_HDI_Table.csv', skiprows=4)\n",
    "hdi.head(10)"
   ]
  },
  {
   "cell_type": "code",
   "execution_count": 8,
   "id": "00ca8531-f6d8-4710-a928-dce67c711352",
   "metadata": {},
   "outputs": [
    {
     "data": {
      "text/plain": [
       "Index(['Unnamed: 0', 'Unnamed: 1', 'Human Development Index (HDI) ',\n",
       "       'Unnamed: 3', 'Life expectancy at birth', 'Unnamed: 5',\n",
       "       'Expected years of schooling', 'Unnamed: 7', 'Mean years of schooling',\n",
       "       'Unnamed: 9', 'Gross national income (GNI) per capita', 'Unnamed: 11',\n",
       "       'GNI per capita rank minus HDI rank', 'Unnamed: 13', 'HDI rank',\n",
       "       'Unnamed: 15', 'Unnamed: 16', 'Unnamed: 17', 'Unnamed: 18',\n",
       "       'Unnamed: 19', 'Unnamed: 20', 'Unnamed: 21', 'Unnamed: 22',\n",
       "       'Unnamed: 23', 'Unnamed: 24', 'Unnamed: 25', 'Unnamed: 26'],\n",
       "      dtype='object')"
      ]
     },
     "execution_count": 8,
     "metadata": {},
     "output_type": "execute_result"
    }
   ],
   "source": [
    "hdi.columns"
   ]
  },
  {
   "cell_type": "code",
   "execution_count": 9,
   "id": "f1dff175-bae4-4c6c-94f5-20205d3bdbd0",
   "metadata": {},
   "outputs": [],
   "source": [
    "# selecting relevant columns to work with\n",
    "hdi = hdi[['Unnamed: 0', \n",
    "           'Unnamed: 1', \n",
    "           'Human Development Index (HDI) ', \n",
    "           'Life expectancy at birth',\n",
    "           'Expected years of schooling', \n",
    "           'Mean years of schooling',\n",
    "           'Gross national income (GNI) per capita']]"
   ]
  },
  {
   "cell_type": "code",
   "execution_count": 10,
   "id": "5ca4d1b0-4360-4715-9c9a-5d0633bcb179",
   "metadata": {},
   "outputs": [],
   "source": [
    "# renaming columns\n",
    "hdi.rename(\n",
    "    columns={\n",
    "        'Unnamed: 0': 'hdi_rank_2021', \n",
    "        'Unnamed: 1': 'country', \n",
    "        'Human Development Index (HDI) ': 'hdi', \n",
    "        'Life expectancy at birth': 'life_expectancy', \n",
    "        'Expected years of schooling': 'expected_years_schooling',\n",
    "        'Mean years of schooling': 'mean_years_schooling',\n",
    "        'Gross national income (GNI) per capita': 'gni_per_capita'\n",
    "    }, \n",
    "    inplace=True)"
   ]
  },
  {
   "cell_type": "code",
   "execution_count": 11,
   "id": "ebe878f8-2d8b-41a9-9089-7c2ee93b462b",
   "metadata": {},
   "outputs": [
    {
     "data": {
      "text/html": [
       "<div>\n",
       "<style scoped>\n",
       "    .dataframe tbody tr th:only-of-type {\n",
       "        vertical-align: middle;\n",
       "    }\n",
       "\n",
       "    .dataframe tbody tr th {\n",
       "        vertical-align: top;\n",
       "    }\n",
       "\n",
       "    .dataframe thead th {\n",
       "        text-align: right;\n",
       "    }\n",
       "</style>\n",
       "<table border=\"1\" class=\"dataframe\">\n",
       "  <thead>\n",
       "    <tr style=\"text-align: right;\">\n",
       "      <th></th>\n",
       "      <th>hdi_rank_2021</th>\n",
       "      <th>country</th>\n",
       "      <th>hdi</th>\n",
       "      <th>life_expectancy</th>\n",
       "      <th>expected_years_schooling</th>\n",
       "      <th>mean_years_schooling</th>\n",
       "      <th>gni_per_capita</th>\n",
       "    </tr>\n",
       "  </thead>\n",
       "  <tbody>\n",
       "    <tr>\n",
       "      <th>0</th>\n",
       "      <td>HDI rank</td>\n",
       "      <td>Country</td>\n",
       "      <td>Value</td>\n",
       "      <td>(years)</td>\n",
       "      <td>(years)</td>\n",
       "      <td>(years)</td>\n",
       "      <td>(2017 PPP $)</td>\n",
       "    </tr>\n",
       "    <tr>\n",
       "      <th>1</th>\n",
       "      <td>NaN</td>\n",
       "      <td>NaN</td>\n",
       "      <td>2021</td>\n",
       "      <td>2021</td>\n",
       "      <td>2021</td>\n",
       "      <td>2021</td>\n",
       "      <td>2021</td>\n",
       "    </tr>\n",
       "    <tr>\n",
       "      <th>2</th>\n",
       "      <td>NaN</td>\n",
       "      <td>VERY HIGH HUMAN DEVELOPMENT</td>\n",
       "      <td>NaN</td>\n",
       "      <td>NaN</td>\n",
       "      <td>NaN</td>\n",
       "      <td>NaN</td>\n",
       "      <td>NaN</td>\n",
       "    </tr>\n",
       "    <tr>\n",
       "      <th>3</th>\n",
       "      <td>1</td>\n",
       "      <td>Switzerland</td>\n",
       "      <td>0.962</td>\n",
       "      <td>84.0</td>\n",
       "      <td>16.5</td>\n",
       "      <td>13.9</td>\n",
       "      <td>66,933</td>\n",
       "    </tr>\n",
       "    <tr>\n",
       "      <th>4</th>\n",
       "      <td>2</td>\n",
       "      <td>Norway</td>\n",
       "      <td>0.961</td>\n",
       "      <td>83.2</td>\n",
       "      <td>18.2</td>\n",
       "      <td>13.0</td>\n",
       "      <td>64,660</td>\n",
       "    </tr>\n",
       "  </tbody>\n",
       "</table>\n",
       "</div>"
      ],
      "text/plain": [
       "  hdi_rank_2021                      country    hdi life_expectancy  \\\n",
       "0      HDI rank                      Country  Value         (years)   \n",
       "1           NaN                          NaN   2021            2021   \n",
       "2           NaN  VERY HIGH HUMAN DEVELOPMENT    NaN             NaN   \n",
       "3             1                  Switzerland  0.962            84.0   \n",
       "4             2                       Norway  0.961            83.2   \n",
       "\n",
       "  expected_years_schooling mean_years_schooling gni_per_capita  \n",
       "0                  (years)              (years)   (2017 PPP $)  \n",
       "1                     2021                 2021           2021  \n",
       "2                      NaN                  NaN            NaN  \n",
       "3                     16.5                 13.9         66,933  \n",
       "4                     18.2                 13.0         64,660  "
      ]
     },
     "execution_count": 11,
     "metadata": {},
     "output_type": "execute_result"
    }
   ],
   "source": [
    "hdi.head()"
   ]
  },
  {
   "cell_type": "code",
   "execution_count": 12,
   "id": "092f2850-28fc-4752-9bfb-32182db536ba",
   "metadata": {},
   "outputs": [
    {
     "name": "stdout",
     "output_type": "stream",
     "text": [
      "<class 'pandas.core.frame.DataFrame'>\n",
      "RangeIndex: 272 entries, 0 to 271\n",
      "Data columns (total 7 columns):\n",
      " #   Column                    Non-Null Count  Dtype \n",
      "---  ------                    --------------  ----- \n",
      " 0   hdi_rank_2021             192 non-null    object\n",
      " 1   country                   261 non-null    object\n",
      " 2   hdi                       212 non-null    object\n",
      " 3   life_expectancy           212 non-null    object\n",
      " 4   expected_years_schooling  212 non-null    object\n",
      " 5   mean_years_schooling      212 non-null    object\n",
      " 6   gni_per_capita            212 non-null    object\n",
      "dtypes: object(7)\n",
      "memory usage: 15.0+ KB\n"
     ]
    }
   ],
   "source": [
    "hdi.info()"
   ]
  },
  {
   "cell_type": "code",
   "execution_count": 13,
   "id": "d345f693-5d01-40be-bf04-61e948d38363",
   "metadata": {},
   "outputs": [],
   "source": [
    "# selecting rows where hdi_rank_2021 contains a value\n",
    "hdi = hdi[hdi.hdi_rank_2021.notna()].reset_index(drop=True)"
   ]
  },
  {
   "cell_type": "code",
   "execution_count": 14,
   "id": "1c7db15e-bb39-402f-8337-f69aff34aab8",
   "metadata": {},
   "outputs": [],
   "source": [
    "# dropping the first row \n",
    "hdi = hdi.drop(0)"
   ]
  },
  {
   "cell_type": "code",
   "execution_count": 15,
   "id": "386a1065-3cf0-4cca-a796-f8975f16bec0",
   "metadata": {},
   "outputs": [],
   "source": [
    "# removing special characters from gni_per_capita\n",
    "hdi.gni_per_capita = hdi.gni_per_capita.map(lambda x: x.replace(',',''))"
   ]
  },
  {
   "cell_type": "code",
   "execution_count": 16,
   "id": "bda38ea5-80a0-4615-ab86-f68b39e8c68a",
   "metadata": {},
   "outputs": [],
   "source": [
    "# converting values to numeric datatypes \n",
    "for i in hdi.columns:\n",
    "    try: \n",
    "        hdi[f'{i}'] = pd.to_numeric(hdi[f'{i}'])\n",
    "    except:\n",
    "        pass"
   ]
  },
  {
   "cell_type": "code",
   "execution_count": 17,
   "id": "9ee84ea0-f2a0-43c1-bdba-cf3cb5f8ecdd",
   "metadata": {},
   "outputs": [
    {
     "name": "stdout",
     "output_type": "stream",
     "text": [
      "<class 'pandas.core.frame.DataFrame'>\n",
      "RangeIndex: 191 entries, 1 to 191\n",
      "Data columns (total 7 columns):\n",
      " #   Column                    Non-Null Count  Dtype  \n",
      "---  ------                    --------------  -----  \n",
      " 0   hdi_rank_2021             191 non-null    int64  \n",
      " 1   country                   191 non-null    object \n",
      " 2   hdi                       191 non-null    float64\n",
      " 3   life_expectancy           191 non-null    float64\n",
      " 4   expected_years_schooling  191 non-null    float64\n",
      " 5   mean_years_schooling      191 non-null    float64\n",
      " 6   gni_per_capita            191 non-null    int64  \n",
      "dtypes: float64(4), int64(2), object(1)\n",
      "memory usage: 10.6+ KB\n"
     ]
    }
   ],
   "source": [
    "hdi.info()"
   ]
  },
  {
   "cell_type": "code",
   "execution_count": 18,
   "id": "65614541-60f5-49c4-8304-a4d6f572632f",
   "metadata": {},
   "outputs": [
    {
     "data": {
      "text/plain": [
       "191"
      ]
     },
     "execution_count": 18,
     "metadata": {},
     "output_type": "execute_result"
    }
   ],
   "source": [
    "# confirming the maximum number of countries in the dataset\n",
    "hdi.hdi_rank_2021.max()"
   ]
  },
  {
   "cell_type": "markdown",
   "id": "8c7874cc-1acb-4de7-977d-89c19a14f14a",
   "metadata": {},
   "source": [
    "HDI is divided into four tiers:\n",
    "\n",
    "* Very high human development (0.8-1.0)\n",
    "* High human development (0.7-0.79)\n",
    "* Medium human development (0.55-0.70)\n",
    "* Low human development (below 0.55)"
   ]
  },
  {
   "cell_type": "code",
   "execution_count": 19,
   "id": "a76edb33-aac2-42cb-85d3-3641c5fded8a",
   "metadata": {},
   "outputs": [],
   "source": [
    "# creating a new column with corresponding HDI tiers\n",
    "hdi['hdi_tier'] = pd.cut(hdi.hdi, bins=[0, 0.55, 0.7, 0.8, 1], labels=['Low', 'Medium', 'High', 'Very high'])"
   ]
  },
  {
   "cell_type": "code",
   "execution_count": 20,
   "id": "7f1ca2ba-fcae-42a4-b695-75b178fa7f82",
   "metadata": {},
   "outputs": [
    {
     "data": {
      "text/html": [
       "<div>\n",
       "<style scoped>\n",
       "    .dataframe tbody tr th:only-of-type {\n",
       "        vertical-align: middle;\n",
       "    }\n",
       "\n",
       "    .dataframe tbody tr th {\n",
       "        vertical-align: top;\n",
       "    }\n",
       "\n",
       "    .dataframe thead th {\n",
       "        text-align: right;\n",
       "    }\n",
       "</style>\n",
       "<table border=\"1\" class=\"dataframe\">\n",
       "  <thead>\n",
       "    <tr style=\"text-align: right;\">\n",
       "      <th></th>\n",
       "      <th>hdi_rank_2021</th>\n",
       "      <th>country</th>\n",
       "      <th>hdi</th>\n",
       "      <th>life_expectancy</th>\n",
       "      <th>expected_years_schooling</th>\n",
       "      <th>mean_years_schooling</th>\n",
       "      <th>gni_per_capita</th>\n",
       "      <th>hdi_tier</th>\n",
       "    </tr>\n",
       "  </thead>\n",
       "  <tbody>\n",
       "    <tr>\n",
       "      <th>1</th>\n",
       "      <td>1</td>\n",
       "      <td>Switzerland</td>\n",
       "      <td>0.962</td>\n",
       "      <td>84.0</td>\n",
       "      <td>16.5</td>\n",
       "      <td>13.9</td>\n",
       "      <td>66933</td>\n",
       "      <td>Very high</td>\n",
       "    </tr>\n",
       "    <tr>\n",
       "      <th>2</th>\n",
       "      <td>2</td>\n",
       "      <td>Norway</td>\n",
       "      <td>0.961</td>\n",
       "      <td>83.2</td>\n",
       "      <td>18.2</td>\n",
       "      <td>13.0</td>\n",
       "      <td>64660</td>\n",
       "      <td>Very high</td>\n",
       "    </tr>\n",
       "    <tr>\n",
       "      <th>3</th>\n",
       "      <td>3</td>\n",
       "      <td>Iceland</td>\n",
       "      <td>0.959</td>\n",
       "      <td>82.7</td>\n",
       "      <td>19.2</td>\n",
       "      <td>13.8</td>\n",
       "      <td>55782</td>\n",
       "      <td>Very high</td>\n",
       "    </tr>\n",
       "    <tr>\n",
       "      <th>4</th>\n",
       "      <td>4</td>\n",
       "      <td>Hong Kong, China (SAR)</td>\n",
       "      <td>0.952</td>\n",
       "      <td>85.5</td>\n",
       "      <td>17.3</td>\n",
       "      <td>12.2</td>\n",
       "      <td>62607</td>\n",
       "      <td>Very high</td>\n",
       "    </tr>\n",
       "    <tr>\n",
       "      <th>5</th>\n",
       "      <td>5</td>\n",
       "      <td>Australia</td>\n",
       "      <td>0.951</td>\n",
       "      <td>84.5</td>\n",
       "      <td>21.1</td>\n",
       "      <td>12.7</td>\n",
       "      <td>49238</td>\n",
       "      <td>Very high</td>\n",
       "    </tr>\n",
       "  </tbody>\n",
       "</table>\n",
       "</div>"
      ],
      "text/plain": [
       "   hdi_rank_2021                 country    hdi  life_expectancy  \\\n",
       "1              1             Switzerland  0.962             84.0   \n",
       "2              2                  Norway  0.961             83.2   \n",
       "3              3                 Iceland  0.959             82.7   \n",
       "4              4  Hong Kong, China (SAR)  0.952             85.5   \n",
       "5              5               Australia  0.951             84.5   \n",
       "\n",
       "   expected_years_schooling  mean_years_schooling  gni_per_capita   hdi_tier  \n",
       "1                      16.5                  13.9           66933  Very high  \n",
       "2                      18.2                  13.0           64660  Very high  \n",
       "3                      19.2                  13.8           55782  Very high  \n",
       "4                      17.3                  12.2           62607  Very high  \n",
       "5                      21.1                  12.7           49238  Very high  "
      ]
     },
     "execution_count": 20,
     "metadata": {},
     "output_type": "execute_result"
    }
   ],
   "source": [
    "hdi.head()"
   ]
  },
  {
   "cell_type": "markdown",
   "id": "6be750bd-4d65-401f-a839-a31f56a14de3",
   "metadata": {},
   "source": [
    "#### Joining the HDI dataframe to Billionaries (Country)"
   ]
  },
  {
   "cell_type": "code",
   "execution_count": 21,
   "id": "704c5c00-e5e3-45ff-b6aa-33d24406c442",
   "metadata": {},
   "outputs": [],
   "source": [
    "# creating a new df without rows where country is missing\n",
    "bill_country = bill[bill.country.notna()].reset_index(drop=True)"
   ]
  },
  {
   "cell_type": "code",
   "execution_count": 22,
   "id": "529809bc-6744-45e4-b321-913568443c37",
   "metadata": {},
   "outputs": [
    {
     "data": {
      "text/plain": [
       "array(['Hong Kong', 'Russia', 'Monaco', 'Czech Republic', 'South Korea',\n",
       "       'Taiwan', 'Eswatini (Swaziland)', 'Cayman Islands', 'Turkey',\n",
       "       'Vietnam', 'Bermuda', 'British Virgin Islands', 'Guernsey',\n",
       "       'Turks and Caicos Islands', 'Tanzania'], dtype=object)"
      ]
     },
     "execution_count": 22,
     "metadata": {},
     "output_type": "execute_result"
    }
   ],
   "source": [
    "# identifying values that are in bill_country.country but are not in hdi.country\n",
    "bill_country.country.loc[~bill_country.country.isin(hdi.country)].unique()"
   ]
  },
  {
   "cell_type": "code",
   "execution_count": 23,
   "id": "9005bac2-a071-43fe-9264-583bf37d5bf2",
   "metadata": {},
   "outputs": [
    {
     "data": {
      "text/plain": [
       "array(['Iceland', 'Hong Kong, China (SAR)', 'Korea (Republic of)',\n",
       "       'Malta', 'Slovenia', 'Estonia', 'Czechia', 'Lithuania',\n",
       "       'Saudi Arabia', 'Croatia', 'San Marino', 'Türkiye', 'Montenegro',\n",
       "       'Kuwait', 'Brunei Darussalam', 'Russian Federation',\n",
       "       'Trinidad and Tobago', 'Costa Rica', 'Belarus', 'Panama',\n",
       "       'Mauritius', 'Serbia', 'Albania', 'Bulgaria', 'Grenada',\n",
       "       'Barbados', 'Antigua and Barbuda', 'Seychelles', 'Sri Lanka',\n",
       "       'Bosnia and Herzegovina', 'Saint Kitts and Nevis',\n",
       "       'Iran (Islamic Republic of)', 'North Macedonia',\n",
       "       'Dominican Republic', 'Moldova (Republic of)', 'Palau', 'Cuba',\n",
       "       'Saint Vincent and the Grenadines', 'Maldives', 'Azerbaijan',\n",
       "       'Tonga', 'Turkmenistan', 'Ecuador', 'Mongolia', 'Tunisia', 'Fiji',\n",
       "       'Suriname', 'Dominica', 'Jordan', 'Libya', 'Paraguay',\n",
       "       'Palestine, State of', 'Saint Lucia', 'Guyana', 'Jamaica', 'Samoa',\n",
       "       'Gabon', 'Viet Nam', 'Botswana',\n",
       "       'Bolivia (Plurinational State of)', 'Kyrgyzstan',\n",
       "       'Venezuela (Bolivarian Republic of)', 'Iraq', 'Tajikistan',\n",
       "       'Belize', 'El Salvador', 'Nicaragua', 'Bhutan', 'Cabo Verde',\n",
       "       'Bangladesh', 'Tuvalu', 'Marshall Islands', 'Ghana',\n",
       "       'Micronesia (Federated States of)', 'Guatemala', 'Kiribati',\n",
       "       'Honduras', 'Sao Tome and Principe', 'Namibia',\n",
       "       \"Lao People's Democratic Republic\", 'Timor-Leste', 'Vanuatu',\n",
       "       'Eswatini (Kingdom of)', 'Equatorial Guinea', 'Zimbabwe', 'Angola',\n",
       "       'Myanmar', 'Syrian Arab Republic', 'Cameroon', 'Kenya', 'Congo',\n",
       "       'Zambia', 'Solomon Islands', 'Comoros', 'Papua New Guinea',\n",
       "       'Mauritania', \"Côte d'Ivoire\", 'Tanzania (United Republic of)',\n",
       "       'Pakistan', 'Togo', 'Haiti', 'Rwanda', 'Benin', 'Uganda',\n",
       "       'Lesotho', 'Malawi', 'Senegal', 'Djibouti', 'Sudan', 'Madagascar',\n",
       "       'Gambia', 'Ethiopia', 'Eritrea', 'Guinea-Bissau', 'Liberia',\n",
       "       'Congo (Democratic Republic of the)', 'Afghanistan',\n",
       "       'Sierra Leone', 'Guinea', 'Yemen', 'Burkina Faso', 'Mozambique',\n",
       "       'Mali', 'Burundi', 'Central African Republic', 'Niger', 'Chad',\n",
       "       'South Sudan'], dtype=object)"
      ]
     },
     "execution_count": 23,
     "metadata": {},
     "output_type": "execute_result"
    }
   ],
   "source": [
    "# vice versa to identify 'duplicate' countries under a different name\n",
    "hdi.country.loc[~hdi.country.isin(bill_country.country)].unique()"
   ]
  },
  {
   "attachments": {},
   "cell_type": "markdown",
   "id": "2b9697b7-a147-4275-87f0-fb825c623a53",
   "metadata": {},
   "source": [
    "Taking a look at the list of countries that are either in `hdi.country` or `bill_country.country` but not both, we can see that some countries are listed under different names. \n",
    "\n",
    "* Hong Kong vs. Hong Kong, China (SAR)\n",
    "* Russia vs. Russian Federation\n",
    "* Czech Republic vs. Czechia\n",
    "* South Korea vs. Korea (Republic of)\n",
    "* Eswatini (Swaziland) vs. Eswatini (Kingdom of)\n",
    "* Turkey vs. Türkiye\n",
    "* Vietnam vs. Viet Nam\n",
    "* Tanzania vs. Tanzania (United Republic of)\n",
    "  \n",
    "I renamed these countries in `hdi`. "
   ]
  },
  {
   "cell_type": "code",
   "execution_count": 24,
   "id": "cb950d18-e667-4575-b099-280ed47f5b57",
   "metadata": {},
   "outputs": [],
   "source": [
    "bill_country.country.replace({'Hong Kong': 'Hong Kong, China (SAR)', \n",
    "                     'Russia': 'Russian Federation', \n",
    "                     'Czech Republic': 'Czechia', \n",
    "                     'South Korea': 'Korea (Republic of)', \n",
    "                     'Eswatini (Swaziland)': 'Eswatini (Kingdom of)', \n",
    "                     'Turkey': 'Türkiye',\n",
    "                     'Vietnam': 'Viet Nam',\n",
    "                     'Tanzania': 'Tanzania (United Republic of)'}, inplace=True)"
   ]
  },
  {
   "cell_type": "code",
   "execution_count": 25,
   "id": "266bc73b-32f6-42ea-9959-01c9c6d79c1b",
   "metadata": {},
   "outputs": [],
   "source": [
    "# merging hdi to bill_country\n",
    "bill_country = bill_country.merge(hdi, on='country', how='left')"
   ]
  },
  {
   "cell_type": "code",
   "execution_count": 26,
   "id": "d3952611-4c26-4983-a22c-70aa8bb17798",
   "metadata": {},
   "outputs": [
    {
     "name": "stdout",
     "output_type": "stream",
     "text": [
      "<class 'pandas.core.frame.DataFrame'>\n",
      "RangeIndex: 2602 entries, 0 to 2601\n",
      "Data columns (total 19 columns):\n",
      " #   Column                    Non-Null Count  Dtype         \n",
      "---  ------                    --------------  -----         \n",
      " 0   rank                      2602 non-null   int64         \n",
      " 1   finalWorth                2602 non-null   int64         \n",
      " 2   personName                2602 non-null   object        \n",
      " 3   age                       2549 non-null   float64       \n",
      " 4   country                   2602 non-null   object        \n",
      " 5   city                      2568 non-null   object        \n",
      " 6   source                    2602 non-null   object        \n",
      " 7   industries                2602 non-null   object        \n",
      " 8   countryOfCitizenship      2602 non-null   object        \n",
      " 9   selfMade                  2602 non-null   bool          \n",
      " 10  gender                    2602 non-null   object        \n",
      " 11  birthDate                 2538 non-null   datetime64[ns]\n",
      " 12  hdi_rank_2021             2534 non-null   float64       \n",
      " 13  hdi                       2534 non-null   float64       \n",
      " 14  life_expectancy           2534 non-null   float64       \n",
      " 15  expected_years_schooling  2534 non-null   float64       \n",
      " 16  mean_years_schooling      2534 non-null   float64       \n",
      " 17  gni_per_capita            2534 non-null   float64       \n",
      " 18  hdi_tier                  2534 non-null   category      \n",
      "dtypes: bool(1), category(1), datetime64[ns](1), float64(7), int64(2), object(7)\n",
      "memory usage: 351.0+ KB\n"
     ]
    }
   ],
   "source": [
    "bill_country.info()"
   ]
  },
  {
   "cell_type": "code",
   "execution_count": 27,
   "id": "ab187410-d260-4ec2-86f9-803c462d8aa9",
   "metadata": {},
   "outputs": [
    {
     "data": {
      "text/plain": [
       "countryOfCitizenship\n",
       "United States           734\n",
       "China                   491\n",
       "India                   166\n",
       "Germany                 116\n",
       "Russia                  104\n",
       "                       ... \n",
       "Venezuela                 1\n",
       "Algeria                   1\n",
       "Portugal                  1\n",
       "Eswatini (Swaziland)      1\n",
       "Bangladesh                1\n",
       "Name: count, Length: 76, dtype: int64"
      ]
     },
     "execution_count": 27,
     "metadata": {},
     "output_type": "execute_result"
    }
   ],
   "source": [
    "bill_country.countryOfCitizenship.value_counts()"
   ]
  },
  {
   "cell_type": "markdown",
   "id": "e4b18bf1-bfc1-41aa-98bf-ed4f2d863214",
   "metadata": {},
   "source": [
    "### Economic and Education Indicators"
   ]
  },
  {
   "cell_type": "markdown",
   "id": "20dd87dc-fba2-42fc-87d5-f1acdc1518c8",
   "metadata": {},
   "source": [
    "The following economic and education indicators were sourced from The World Bank website (https://data.worldbank.org/indicator) on the 15th of November, 2023. \n",
    "\n",
    "* **GDP (current US$):**\n",
    "  GDP at purchaser's prices is the sum of gross value added by all resident producers in the economy plus any product taxes and minus any subsidies not included in the value of the products. It is calculated without making deductions for depreciation of fabricated assets or for depletion and degradation of natural resources. Data are in current U.S. dollars. Dollar figures for GDP are converted from domestic currencies using single year official exchange rates. For a few countries where the official exchange rate does not reflect the rate effectively applied to actual foreign exchange transactions, an alternative conversion factor is used.\n",
    "* **Tax revenue (% of GDP):** Tax revenue refers to compulsory transfers to the central government for public purposes. Certain compulsory transfers such as fines, penalties, and most social security contributions are excluded. Refunds and corrections of erroneously collected tax revenue are treated as negative revenue.\n",
    "* **School enrollment, primary (% gross):**\n",
    "  Gross enrollment ratio is the ratio of total enrollment, regardless of age, to the population of the age group that officially corresponds to the level of education shown. Primary education provides children with basic reading, writing, and mathematics skills along with an elementary understanding of such subjects as history, geography, natural science, social science, art, and music.\n",
    "* **School enrollment, tertiary (% gross):**\n",
    "  Gross enrollment ratio is the ratio of total enrollment, regardless of age, to the population of the age group that officially corresponds to the level of education shown. Tertiary education, whether or not to an advanced research qualification, normally requires, as a minimum condition of admission, the successful completion of education at the secondary level."
   ]
  },
  {
   "cell_type": "code",
   "execution_count": 28,
   "id": "0b844b92-1721-4660-aec7-fb0812fef3c1",
   "metadata": {},
   "outputs": [
    {
     "data": {
      "text/html": [
       "<div>\n",
       "<style scoped>\n",
       "    .dataframe tbody tr th:only-of-type {\n",
       "        vertical-align: middle;\n",
       "    }\n",
       "\n",
       "    .dataframe tbody tr th {\n",
       "        vertical-align: top;\n",
       "    }\n",
       "\n",
       "    .dataframe thead th {\n",
       "        text-align: right;\n",
       "    }\n",
       "</style>\n",
       "<table border=\"1\" class=\"dataframe\">\n",
       "  <thead>\n",
       "    <tr style=\"text-align: right;\">\n",
       "      <th></th>\n",
       "      <th>Country Name</th>\n",
       "      <th>Country Code</th>\n",
       "      <th>Indicator Name</th>\n",
       "      <th>Indicator Code</th>\n",
       "      <th>1960</th>\n",
       "      <th>1961</th>\n",
       "      <th>1962</th>\n",
       "      <th>1963</th>\n",
       "      <th>1964</th>\n",
       "      <th>1965</th>\n",
       "      <th>...</th>\n",
       "      <th>2014</th>\n",
       "      <th>2015</th>\n",
       "      <th>2016</th>\n",
       "      <th>2017</th>\n",
       "      <th>2018</th>\n",
       "      <th>2019</th>\n",
       "      <th>2020</th>\n",
       "      <th>2021</th>\n",
       "      <th>2022</th>\n",
       "      <th>Unnamed: 67</th>\n",
       "    </tr>\n",
       "  </thead>\n",
       "  <tbody>\n",
       "    <tr>\n",
       "      <th>0</th>\n",
       "      <td>Aruba</td>\n",
       "      <td>ABW</td>\n",
       "      <td>GDP (current US$)</td>\n",
       "      <td>NY.GDP.MKTP.CD</td>\n",
       "      <td>NaN</td>\n",
       "      <td>NaN</td>\n",
       "      <td>NaN</td>\n",
       "      <td>NaN</td>\n",
       "      <td>NaN</td>\n",
       "      <td>NaN</td>\n",
       "      <td>...</td>\n",
       "      <td>2.791061e+09</td>\n",
       "      <td>2.963128e+09</td>\n",
       "      <td>2.983799e+09</td>\n",
       "      <td>3.092179e+09</td>\n",
       "      <td>3.276188e+09</td>\n",
       "      <td>3.395794e+09</td>\n",
       "      <td>2.610039e+09</td>\n",
       "      <td>3.126019e+09</td>\n",
       "      <td>NaN</td>\n",
       "      <td>NaN</td>\n",
       "    </tr>\n",
       "    <tr>\n",
       "      <th>1</th>\n",
       "      <td>Africa Eastern and Southern</td>\n",
       "      <td>AFE</td>\n",
       "      <td>GDP (current US$)</td>\n",
       "      <td>NY.GDP.MKTP.CD</td>\n",
       "      <td>2.112502e+10</td>\n",
       "      <td>2.161623e+10</td>\n",
       "      <td>2.350628e+10</td>\n",
       "      <td>2.804836e+10</td>\n",
       "      <td>2.592067e+10</td>\n",
       "      <td>2.947210e+10</td>\n",
       "      <td>...</td>\n",
       "      <td>1.006526e+12</td>\n",
       "      <td>9.273485e+11</td>\n",
       "      <td>8.851764e+11</td>\n",
       "      <td>1.021043e+12</td>\n",
       "      <td>1.007196e+12</td>\n",
       "      <td>1.000834e+12</td>\n",
       "      <td>9.275933e+11</td>\n",
       "      <td>1.081998e+12</td>\n",
       "      <td>1.169484e+12</td>\n",
       "      <td>NaN</td>\n",
       "    </tr>\n",
       "    <tr>\n",
       "      <th>2</th>\n",
       "      <td>Afghanistan</td>\n",
       "      <td>AFG</td>\n",
       "      <td>GDP (current US$)</td>\n",
       "      <td>NY.GDP.MKTP.CD</td>\n",
       "      <td>5.377778e+08</td>\n",
       "      <td>5.488889e+08</td>\n",
       "      <td>5.466667e+08</td>\n",
       "      <td>7.511112e+08</td>\n",
       "      <td>8.000000e+08</td>\n",
       "      <td>1.006667e+09</td>\n",
       "      <td>...</td>\n",
       "      <td>2.055058e+10</td>\n",
       "      <td>1.999814e+10</td>\n",
       "      <td>1.801955e+10</td>\n",
       "      <td>1.889635e+10</td>\n",
       "      <td>1.841886e+10</td>\n",
       "      <td>1.890450e+10</td>\n",
       "      <td>2.014345e+10</td>\n",
       "      <td>1.458314e+10</td>\n",
       "      <td>NaN</td>\n",
       "      <td>NaN</td>\n",
       "    </tr>\n",
       "    <tr>\n",
       "      <th>3</th>\n",
       "      <td>Africa Western and Central</td>\n",
       "      <td>AFW</td>\n",
       "      <td>GDP (current US$)</td>\n",
       "      <td>NY.GDP.MKTP.CD</td>\n",
       "      <td>1.044764e+10</td>\n",
       "      <td>1.117321e+10</td>\n",
       "      <td>1.199053e+10</td>\n",
       "      <td>1.272769e+10</td>\n",
       "      <td>1.389811e+10</td>\n",
       "      <td>1.492979e+10</td>\n",
       "      <td>...</td>\n",
       "      <td>8.943225e+11</td>\n",
       "      <td>7.686447e+11</td>\n",
       "      <td>6.913634e+11</td>\n",
       "      <td>6.848988e+11</td>\n",
       "      <td>7.670257e+11</td>\n",
       "      <td>8.225384e+11</td>\n",
       "      <td>7.864600e+11</td>\n",
       "      <td>8.444597e+11</td>\n",
       "      <td>8.778633e+11</td>\n",
       "      <td>NaN</td>\n",
       "    </tr>\n",
       "    <tr>\n",
       "      <th>4</th>\n",
       "      <td>Angola</td>\n",
       "      <td>AGO</td>\n",
       "      <td>GDP (current US$)</td>\n",
       "      <td>NY.GDP.MKTP.CD</td>\n",
       "      <td>NaN</td>\n",
       "      <td>NaN</td>\n",
       "      <td>NaN</td>\n",
       "      <td>NaN</td>\n",
       "      <td>NaN</td>\n",
       "      <td>NaN</td>\n",
       "      <td>...</td>\n",
       "      <td>1.372444e+11</td>\n",
       "      <td>8.721930e+10</td>\n",
       "      <td>4.984049e+10</td>\n",
       "      <td>6.897277e+10</td>\n",
       "      <td>7.779294e+10</td>\n",
       "      <td>6.930911e+10</td>\n",
       "      <td>5.024137e+10</td>\n",
       "      <td>6.568544e+10</td>\n",
       "      <td>1.067136e+11</td>\n",
       "      <td>NaN</td>\n",
       "    </tr>\n",
       "  </tbody>\n",
       "</table>\n",
       "<p>5 rows × 68 columns</p>\n",
       "</div>"
      ],
      "text/plain": [
       "                  Country Name Country Code     Indicator Name  \\\n",
       "0                        Aruba          ABW  GDP (current US$)   \n",
       "1  Africa Eastern and Southern          AFE  GDP (current US$)   \n",
       "2                  Afghanistan          AFG  GDP (current US$)   \n",
       "3   Africa Western and Central          AFW  GDP (current US$)   \n",
       "4                       Angola          AGO  GDP (current US$)   \n",
       "\n",
       "   Indicator Code          1960          1961          1962          1963  \\\n",
       "0  NY.GDP.MKTP.CD           NaN           NaN           NaN           NaN   \n",
       "1  NY.GDP.MKTP.CD  2.112502e+10  2.161623e+10  2.350628e+10  2.804836e+10   \n",
       "2  NY.GDP.MKTP.CD  5.377778e+08  5.488889e+08  5.466667e+08  7.511112e+08   \n",
       "3  NY.GDP.MKTP.CD  1.044764e+10  1.117321e+10  1.199053e+10  1.272769e+10   \n",
       "4  NY.GDP.MKTP.CD           NaN           NaN           NaN           NaN   \n",
       "\n",
       "           1964          1965  ...          2014          2015          2016  \\\n",
       "0           NaN           NaN  ...  2.791061e+09  2.963128e+09  2.983799e+09   \n",
       "1  2.592067e+10  2.947210e+10  ...  1.006526e+12  9.273485e+11  8.851764e+11   \n",
       "2  8.000000e+08  1.006667e+09  ...  2.055058e+10  1.999814e+10  1.801955e+10   \n",
       "3  1.389811e+10  1.492979e+10  ...  8.943225e+11  7.686447e+11  6.913634e+11   \n",
       "4           NaN           NaN  ...  1.372444e+11  8.721930e+10  4.984049e+10   \n",
       "\n",
       "           2017          2018          2019          2020          2021  \\\n",
       "0  3.092179e+09  3.276188e+09  3.395794e+09  2.610039e+09  3.126019e+09   \n",
       "1  1.021043e+12  1.007196e+12  1.000834e+12  9.275933e+11  1.081998e+12   \n",
       "2  1.889635e+10  1.841886e+10  1.890450e+10  2.014345e+10  1.458314e+10   \n",
       "3  6.848988e+11  7.670257e+11  8.225384e+11  7.864600e+11  8.444597e+11   \n",
       "4  6.897277e+10  7.779294e+10  6.930911e+10  5.024137e+10  6.568544e+10   \n",
       "\n",
       "           2022  Unnamed: 67  \n",
       "0           NaN          NaN  \n",
       "1  1.169484e+12          NaN  \n",
       "2           NaN          NaN  \n",
       "3  8.778633e+11          NaN  \n",
       "4  1.067136e+11          NaN  \n",
       "\n",
       "[5 rows x 68 columns]"
      ]
     },
     "execution_count": 28,
     "metadata": {},
     "output_type": "execute_result"
    }
   ],
   "source": [
    "gdp = pd.read_csv('./data/GDP_WorldBank.csv', skiprows=4)\n",
    "gdp.head()"
   ]
  },
  {
   "cell_type": "code",
   "execution_count": 29,
   "id": "dd472c06-5de0-41b7-84f1-735cdf812fab",
   "metadata": {},
   "outputs": [
    {
     "data": {
      "text/plain": [
       "Index(['Country Name', 'Country Code', 'Indicator Name', 'Indicator Code',\n",
       "       '1960', '1961', '1962', '1963', '1964', '1965', '1966', '1967', '1968',\n",
       "       '1969', '1970', '1971', '1972', '1973', '1974', '1975', '1976', '1977',\n",
       "       '1978', '1979', '1980', '1981', '1982', '1983', '1984', '1985', '1986',\n",
       "       '1987', '1988', '1989', '1990', '1991', '1992', '1993', '1994', '1995',\n",
       "       '1996', '1997', '1998', '1999', '2000', '2001', '2002', '2003', '2004',\n",
       "       '2005', '2006', '2007', '2008', '2009', '2010', '2011', '2012', '2013',\n",
       "       '2014', '2015', '2016', '2017', '2018', '2019', '2020', '2021', '2022',\n",
       "       'Unnamed: 67'],\n",
       "      dtype='object')"
      ]
     },
     "execution_count": 29,
     "metadata": {},
     "output_type": "execute_result"
    }
   ],
   "source": [
    "gdp.columns"
   ]
  },
  {
   "cell_type": "code",
   "execution_count": 30,
   "id": "f0cca072-ae24-4b34-9501-f466ea6f0139",
   "metadata": {},
   "outputs": [
    {
     "data": {
      "text/plain": [
       "Country Name        0\n",
       "Country Code        0\n",
       "Indicator Name      0\n",
       "Indicator Code      0\n",
       "1960              134\n",
       "                 ... \n",
       "2019                9\n",
       "2020                9\n",
       "2021               15\n",
       "2022               33\n",
       "Unnamed: 67       266\n",
       "Length: 68, dtype: int64"
      ]
     },
     "execution_count": 30,
     "metadata": {},
     "output_type": "execute_result"
    }
   ],
   "source": [
    "gdp.isna().sum()"
   ]
  },
  {
   "cell_type": "code",
   "execution_count": 31,
   "id": "4120cd51-f9d3-454c-8ca7-6bdf6d178ec4",
   "metadata": {},
   "outputs": [],
   "source": [
    "# filling in missing 2022 data with the latest available data\n",
    "gdp = gdp.ffill(axis=1)"
   ]
  },
  {
   "cell_type": "code",
   "execution_count": 32,
   "id": "545b8251-c8ce-4bfc-b3f9-3c41a87dd260",
   "metadata": {},
   "outputs": [
    {
     "data": {
      "text/plain": [
       "gdp_2022\n",
       "NY.GDP.MKTP.CD      4\n",
       "2047347019065.53    2\n",
       "4361631457999.02    2\n",
       "13969605582.5202    1\n",
       "40828247302.4851    1\n",
       "                   ..\n",
       "95003333381.1936    1\n",
       "6123000000.0        1\n",
       "15357537068.3434    1\n",
       "61535768880816.7    1\n",
       "20678055597.7345    1\n",
       "Name: count, Length: 261, dtype: int64"
      ]
     },
     "execution_count": 32,
     "metadata": {},
     "output_type": "execute_result"
    }
   ],
   "source": [
    "# updating dataframe with latest statistics\n",
    "gdp = gdp[['Country Name', '2022']].rename(columns={'2022':'gdp_2022'})\n",
    "\n",
    "gdp['gdp_2022'].value_counts()"
   ]
  },
  {
   "cell_type": "code",
   "execution_count": 33,
   "id": "1cf6410a-5e69-4047-b775-d80837397ff3",
   "metadata": {},
   "outputs": [],
   "source": [
    "gdp = gdp[gdp['gdp_2022'] != 'NY.GDP.MKTP.CD']\n",
    "\n",
    "gdp.gdp_2022 = pd.to_numeric(gdp.gdp_2022)"
   ]
  },
  {
   "cell_type": "code",
   "execution_count": 34,
   "id": "878cf196-d2f2-4fe0-aa9e-cafa9d2d8fc8",
   "metadata": {},
   "outputs": [
    {
     "data": {
      "text/html": [
       "<div>\n",
       "<style scoped>\n",
       "    .dataframe tbody tr th:only-of-type {\n",
       "        vertical-align: middle;\n",
       "    }\n",
       "\n",
       "    .dataframe tbody tr th {\n",
       "        vertical-align: top;\n",
       "    }\n",
       "\n",
       "    .dataframe thead th {\n",
       "        text-align: right;\n",
       "    }\n",
       "</style>\n",
       "<table border=\"1\" class=\"dataframe\">\n",
       "  <thead>\n",
       "    <tr style=\"text-align: right;\">\n",
       "      <th></th>\n",
       "      <th>Country Name</th>\n",
       "      <th>gdp_2022</th>\n",
       "    </tr>\n",
       "  </thead>\n",
       "  <tbody>\n",
       "    <tr>\n",
       "      <th>0</th>\n",
       "      <td>Aruba</td>\n",
       "      <td>3.126019e+09</td>\n",
       "    </tr>\n",
       "    <tr>\n",
       "      <th>1</th>\n",
       "      <td>Africa Eastern and Southern</td>\n",
       "      <td>1.169484e+12</td>\n",
       "    </tr>\n",
       "    <tr>\n",
       "      <th>2</th>\n",
       "      <td>Afghanistan</td>\n",
       "      <td>1.458314e+10</td>\n",
       "    </tr>\n",
       "    <tr>\n",
       "      <th>3</th>\n",
       "      <td>Africa Western and Central</td>\n",
       "      <td>8.778633e+11</td>\n",
       "    </tr>\n",
       "    <tr>\n",
       "      <th>4</th>\n",
       "      <td>Angola</td>\n",
       "      <td>1.067136e+11</td>\n",
       "    </tr>\n",
       "  </tbody>\n",
       "</table>\n",
       "</div>"
      ],
      "text/plain": [
       "                  Country Name      gdp_2022\n",
       "0                        Aruba  3.126019e+09\n",
       "1  Africa Eastern and Southern  1.169484e+12\n",
       "2                  Afghanistan  1.458314e+10\n",
       "3   Africa Western and Central  8.778633e+11\n",
       "4                       Angola  1.067136e+11"
      ]
     },
     "execution_count": 34,
     "metadata": {},
     "output_type": "execute_result"
    }
   ],
   "source": [
    "gdp.head()"
   ]
  },
  {
   "cell_type": "markdown",
   "id": "5b03c61e-79dd-41cf-bf94-831867bf63d8",
   "metadata": {},
   "source": [
    "#### Tax Revenue as a % of GDP"
   ]
  },
  {
   "cell_type": "code",
   "execution_count": 35,
   "id": "7d071c04-735b-4bf6-8dac-eb869b675c1f",
   "metadata": {},
   "outputs": [
    {
     "data": {
      "text/plain": [
       "Country Name        0\n",
       "Country Code        0\n",
       "Indicator Name      0\n",
       "Indicator Code      0\n",
       "1960              266\n",
       "                 ... \n",
       "2019              112\n",
       "2020              117\n",
       "2021              137\n",
       "2022              266\n",
       "Unnamed: 67       266\n",
       "Length: 68, dtype: int64"
      ]
     },
     "execution_count": 35,
     "metadata": {},
     "output_type": "execute_result"
    }
   ],
   "source": [
    "tax_rev = pd.read_csv('./data/Tax_Revenue_GDP_WorldBank.csv', skiprows=4)\n",
    "\n",
    "tax_rev.isna().sum()"
   ]
  },
  {
   "cell_type": "code",
   "execution_count": 36,
   "id": "bf3143d5-cf93-4f8d-96a1-5f6349cca4ed",
   "metadata": {},
   "outputs": [
    {
     "data": {
      "text/plain": [
       "tax_rev_2021\n",
       "GC.TAX.TOTL.GD.ZS    70\n",
       "8.509768033518        2\n",
       "11.721278626751       2\n",
       "16.1101894275061      1\n",
       "7.45946065253922      1\n",
       "                     ..\n",
       "18.2047799785766      1\n",
       "9.46207435827386      1\n",
       "5.37156734537771      1\n",
       "25.3409108810727      1\n",
       "7.21476500513885      1\n",
       "Name: count, Length: 195, dtype: int64"
      ]
     },
     "execution_count": 36,
     "metadata": {},
     "output_type": "execute_result"
    }
   ],
   "source": [
    "tax_rev = tax_rev.ffill(axis=1)\n",
    "tax_rev = tax_rev[['Country Name', '2021']].rename(columns={'2021':'tax_rev_2021'})\n",
    "\n",
    "tax_rev['tax_rev_2021'].value_counts()"
   ]
  },
  {
   "cell_type": "code",
   "execution_count": 37,
   "id": "b4a35b00-1e45-4886-81aa-802f757087a2",
   "metadata": {},
   "outputs": [],
   "source": [
    "tax_rev = tax_rev[tax_rev['tax_rev_2021'] != 'GC.TAX.TOTL.GD.ZS']\n",
    "\n",
    "tax_rev.tax_rev_2021 = pd.to_numeric(tax_rev.tax_rev_2021)"
   ]
  },
  {
   "cell_type": "code",
   "execution_count": 38,
   "id": "62e18384-84f8-4a57-97d6-d16254a3688f",
   "metadata": {},
   "outputs": [
    {
     "data": {
      "text/html": [
       "<div>\n",
       "<style scoped>\n",
       "    .dataframe tbody tr th:only-of-type {\n",
       "        vertical-align: middle;\n",
       "    }\n",
       "\n",
       "    .dataframe tbody tr th {\n",
       "        vertical-align: top;\n",
       "    }\n",
       "\n",
       "    .dataframe thead th {\n",
       "        text-align: right;\n",
       "    }\n",
       "</style>\n",
       "<table border=\"1\" class=\"dataframe\">\n",
       "  <thead>\n",
       "    <tr style=\"text-align: right;\">\n",
       "      <th></th>\n",
       "      <th>Country Name</th>\n",
       "      <th>tax_rev_2021</th>\n",
       "    </tr>\n",
       "  </thead>\n",
       "  <tbody>\n",
       "    <tr>\n",
       "      <th>1</th>\n",
       "      <td>Africa Eastern and Southern</td>\n",
       "      <td>18.613436</td>\n",
       "    </tr>\n",
       "    <tr>\n",
       "      <th>2</th>\n",
       "      <td>Afghanistan</td>\n",
       "      <td>9.898451</td>\n",
       "    </tr>\n",
       "    <tr>\n",
       "      <th>4</th>\n",
       "      <td>Angola</td>\n",
       "      <td>10.090386</td>\n",
       "    </tr>\n",
       "    <tr>\n",
       "      <th>5</th>\n",
       "      <td>Albania</td>\n",
       "      <td>18.198589</td>\n",
       "    </tr>\n",
       "    <tr>\n",
       "      <th>7</th>\n",
       "      <td>Arab World</td>\n",
       "      <td>5.408225</td>\n",
       "    </tr>\n",
       "  </tbody>\n",
       "</table>\n",
       "</div>"
      ],
      "text/plain": [
       "                  Country Name  tax_rev_2021\n",
       "1  Africa Eastern and Southern     18.613436\n",
       "2                  Afghanistan      9.898451\n",
       "4                       Angola     10.090386\n",
       "5                      Albania     18.198589\n",
       "7                   Arab World      5.408225"
      ]
     },
     "execution_count": 38,
     "metadata": {},
     "output_type": "execute_result"
    }
   ],
   "source": [
    "tax_rev.head()"
   ]
  },
  {
   "cell_type": "markdown",
   "id": "413772ca-181b-40d5-9190-677b6b7bc2d7",
   "metadata": {},
   "source": [
    "#### Education"
   ]
  },
  {
   "cell_type": "code",
   "execution_count": 39,
   "id": "bc56dab4-a000-4fef-9b58-e82f3ef2205e",
   "metadata": {},
   "outputs": [
    {
     "data": {
      "text/plain": [
       "Country Name        0\n",
       "Country Code        0\n",
       "Indicator Name      0\n",
       "Indicator Code      0\n",
       "1960              266\n",
       "                 ... \n",
       "2019               54\n",
       "2020               62\n",
       "2021               67\n",
       "2022              139\n",
       "Unnamed: 67       266\n",
       "Length: 68, dtype: int64"
      ]
     },
     "execution_count": 39,
     "metadata": {},
     "output_type": "execute_result"
    }
   ],
   "source": [
    "edu_primary = pd.read_csv('./data/School_enrollment_primary.csv', skiprows=4)\n",
    "\n",
    "edu_primary.isna().sum()"
   ]
  },
  {
   "cell_type": "code",
   "execution_count": 40,
   "id": "d4a1a4f0-ecfd-4086-b4b7-be66a0ef484a",
   "metadata": {},
   "outputs": [
    {
     "data": {
      "text/plain": [
       "edu_primary_2022\n",
       "SE.PRM.ENRR         9\n",
       "105.089416503906    2\n",
       "98.8512268066406    2\n",
       "115.184593200684    1\n",
       "101.075828552246    1\n",
       "                   ..\n",
       "77.8290481567383    1\n",
       "90.4738388061523    1\n",
       "99.8471603393555    1\n",
       "103.451057434082    1\n",
       "96.0151443481445    1\n",
       "Name: count, Length: 256, dtype: int64"
      ]
     },
     "execution_count": 40,
     "metadata": {},
     "output_type": "execute_result"
    }
   ],
   "source": [
    "edu_primary = edu_primary.ffill(axis=1)\n",
    "edu_primary = edu_primary[['Country Name', '2022']].rename(columns={'2022':'edu_primary_2022'})\n",
    "\n",
    "edu_primary['edu_primary_2022'].value_counts()"
   ]
  },
  {
   "cell_type": "code",
   "execution_count": 41,
   "id": "6cc8e175-83ce-4535-8214-5915a908e0cf",
   "metadata": {},
   "outputs": [],
   "source": [
    "edu_primary = edu_primary[edu_primary['edu_primary_2022'] != 'SE.PRM.ENRR']\n",
    "\n",
    "edu_primary.edu_primary_2022 = pd.to_numeric(edu_primary.edu_primary_2022)"
   ]
  },
  {
   "cell_type": "code",
   "execution_count": 42,
   "id": "d74440a8-6d99-48e3-8f0d-40c4f66aed6e",
   "metadata": {},
   "outputs": [
    {
     "data": {
      "text/html": [
       "<div>\n",
       "<style scoped>\n",
       "    .dataframe tbody tr th:only-of-type {\n",
       "        vertical-align: middle;\n",
       "    }\n",
       "\n",
       "    .dataframe tbody tr th {\n",
       "        vertical-align: top;\n",
       "    }\n",
       "\n",
       "    .dataframe thead th {\n",
       "        text-align: right;\n",
       "    }\n",
       "</style>\n",
       "<table border=\"1\" class=\"dataframe\">\n",
       "  <thead>\n",
       "    <tr style=\"text-align: right;\">\n",
       "      <th></th>\n",
       "      <th>Country Name</th>\n",
       "      <th>edu_primary_2022</th>\n",
       "    </tr>\n",
       "  </thead>\n",
       "  <tbody>\n",
       "    <tr>\n",
       "      <th>0</th>\n",
       "      <td>Aruba</td>\n",
       "      <td>115.184593</td>\n",
       "    </tr>\n",
       "    <tr>\n",
       "      <th>1</th>\n",
       "      <td>Africa Eastern and Southern</td>\n",
       "      <td>104.882607</td>\n",
       "    </tr>\n",
       "    <tr>\n",
       "      <th>2</th>\n",
       "      <td>Afghanistan</td>\n",
       "      <td>110.007507</td>\n",
       "    </tr>\n",
       "    <tr>\n",
       "      <th>3</th>\n",
       "      <td>Africa Western and Central</td>\n",
       "      <td>89.953041</td>\n",
       "    </tr>\n",
       "    <tr>\n",
       "      <th>4</th>\n",
       "      <td>Angola</td>\n",
       "      <td>88.574867</td>\n",
       "    </tr>\n",
       "  </tbody>\n",
       "</table>\n",
       "</div>"
      ],
      "text/plain": [
       "                  Country Name  edu_primary_2022\n",
       "0                        Aruba        115.184593\n",
       "1  Africa Eastern and Southern        104.882607\n",
       "2                  Afghanistan        110.007507\n",
       "3   Africa Western and Central         89.953041\n",
       "4                       Angola         88.574867"
      ]
     },
     "execution_count": 42,
     "metadata": {},
     "output_type": "execute_result"
    }
   ],
   "source": [
    "edu_primary.head()"
   ]
  },
  {
   "cell_type": "code",
   "execution_count": 43,
   "id": "e3bf0b44-cbf1-4d62-ba7d-458abbd5fcfb",
   "metadata": {},
   "outputs": [
    {
     "data": {
      "text/plain": [
       "Country Name        0\n",
       "Country Code        0\n",
       "Indicator Name      0\n",
       "Indicator Code      0\n",
       "1960              266\n",
       "                 ... \n",
       "2019               84\n",
       "2020               91\n",
       "2021              110\n",
       "2022              176\n",
       "Unnamed: 67       266\n",
       "Length: 68, dtype: int64"
      ]
     },
     "execution_count": 43,
     "metadata": {},
     "output_type": "execute_result"
    }
   ],
   "source": [
    "edu_tertiary = pd.read_csv('./data/School_enrollment_tertiary.csv', skiprows=4)\n",
    "\n",
    "edu_tertiary.isna().sum()"
   ]
  },
  {
   "cell_type": "code",
   "execution_count": 44,
   "id": "262f950b-a7f5-494d-8821-beb55d65dd43",
   "metadata": {},
   "outputs": [
    {
     "data": {
      "text/plain": [
       "edu_tertiary_2022\n",
       "SE.TER.ENRR         16\n",
       "27.2942008972168     2\n",
       "9.39892959594727     2\n",
       "18.4336795806885     1\n",
       "43.8433609008789     1\n",
       "                    ..\n",
       "18.6944980621338     1\n",
       "11.6349601745605     1\n",
       "79.2583465576172     1\n",
       "104.223243713379     1\n",
       "9.72360515594482     1\n",
       "Name: count, Length: 249, dtype: int64"
      ]
     },
     "execution_count": 44,
     "metadata": {},
     "output_type": "execute_result"
    }
   ],
   "source": [
    "edu_tertiary = edu_tertiary.ffill(axis=1)\n",
    "edu_tertiary = edu_tertiary[['Country Name', '2022']].rename(columns={'2022':'edu_tertiary_2022'})\n",
    "\n",
    "edu_tertiary['edu_tertiary_2022'].value_counts()"
   ]
  },
  {
   "cell_type": "code",
   "execution_count": 45,
   "id": "29f6d9f9-0e2a-4ff8-aebd-e899cfacec03",
   "metadata": {},
   "outputs": [],
   "source": [
    "edu_tertiary = edu_tertiary[edu_tertiary['edu_tertiary_2022'] != 'SE.TER.ENRR']\n",
    "\n",
    "edu_tertiary.edu_tertiary_2022 = pd.to_numeric(edu_tertiary.edu_tertiary_2022)"
   ]
  },
  {
   "cell_type": "code",
   "execution_count": 46,
   "id": "40dba73e-5937-400d-9094-30f86073c77e",
   "metadata": {},
   "outputs": [
    {
     "data": {
      "text/html": [
       "<div>\n",
       "<style scoped>\n",
       "    .dataframe tbody tr th:only-of-type {\n",
       "        vertical-align: middle;\n",
       "    }\n",
       "\n",
       "    .dataframe tbody tr th {\n",
       "        vertical-align: top;\n",
       "    }\n",
       "\n",
       "    .dataframe thead th {\n",
       "        text-align: right;\n",
       "    }\n",
       "</style>\n",
       "<table border=\"1\" class=\"dataframe\">\n",
       "  <thead>\n",
       "    <tr style=\"text-align: right;\">\n",
       "      <th></th>\n",
       "      <th>Country Name</th>\n",
       "      <th>edu_tertiary_2022</th>\n",
       "    </tr>\n",
       "  </thead>\n",
       "  <tbody>\n",
       "    <tr>\n",
       "      <th>0</th>\n",
       "      <td>Aruba</td>\n",
       "      <td>18.433680</td>\n",
       "    </tr>\n",
       "    <tr>\n",
       "      <th>1</th>\n",
       "      <td>Africa Eastern and Southern</td>\n",
       "      <td>8.850520</td>\n",
       "    </tr>\n",
       "    <tr>\n",
       "      <th>2</th>\n",
       "      <td>Afghanistan</td>\n",
       "      <td>10.858440</td>\n",
       "    </tr>\n",
       "    <tr>\n",
       "      <th>3</th>\n",
       "      <td>Africa Western and Central</td>\n",
       "      <td>10.059090</td>\n",
       "    </tr>\n",
       "    <tr>\n",
       "      <th>4</th>\n",
       "      <td>Angola</td>\n",
       "      <td>11.061359</td>\n",
       "    </tr>\n",
       "  </tbody>\n",
       "</table>\n",
       "</div>"
      ],
      "text/plain": [
       "                  Country Name  edu_tertiary_2022\n",
       "0                        Aruba          18.433680\n",
       "1  Africa Eastern and Southern           8.850520\n",
       "2                  Afghanistan          10.858440\n",
       "3   Africa Western and Central          10.059090\n",
       "4                       Angola          11.061359"
      ]
     },
     "execution_count": 46,
     "metadata": {},
     "output_type": "execute_result"
    }
   ],
   "source": [
    "edu_tertiary.head()"
   ]
  },
  {
   "cell_type": "code",
   "execution_count": 47,
   "id": "77b49a93-2d4a-4ce8-ad5d-a10a93f71f4a",
   "metadata": {},
   "outputs": [],
   "source": [
    "# joining all four tables together\n",
    "wb = gdp.merge(tax_rev, \n",
    "               on='Country Name', \n",
    "               how='outer').merge(edu_primary, \n",
    "                                  on='Country Name',\n",
    "                                  how='outer').merge(edu_tertiary,\n",
    "                                                     on='Country Name',\n",
    "                                                     how='outer')"
   ]
  },
  {
   "cell_type": "code",
   "execution_count": 48,
   "id": "88fc0276-a982-4273-a022-545cd6780620",
   "metadata": {},
   "outputs": [
    {
     "data": {
      "text/plain": [
       "array(['Hong Kong, China (SAR)', 'Korea (Republic of)', 'Taiwan', 'Egypt',\n",
       "       'Eswatini (Kingdom of)', 'Bahamas', 'Türkiye', 'Guernsey',\n",
       "       'Slovakia', 'Tanzania (United Republic of)'], dtype=object)"
      ]
     },
     "execution_count": 48,
     "metadata": {},
     "output_type": "execute_result"
    }
   ],
   "source": [
    "wb.rename(columns={'Country Name':'country'}, inplace=True)\n",
    "\n",
    "# identifying values that are in bill_country.country but are not in wb.country\n",
    "bill_country.country.loc[~bill_country.country.isin(wb.country)].unique()"
   ]
  },
  {
   "cell_type": "code",
   "execution_count": 49,
   "id": "d5b31a71-986a-491e-9b7c-70c4a7481f06",
   "metadata": {},
   "outputs": [
    {
     "data": {
      "text/plain": [
       "array(['Aruba', 'Africa Eastern and Southern', 'Afghanistan',\n",
       "       'Africa Western and Central', 'Angola', 'Albania', 'Arab World',\n",
       "       'American Samoa', 'Antigua and Barbuda', 'Azerbaijan', 'Burundi',\n",
       "       'Benin', 'Burkina Faso', 'Bangladesh', 'Bulgaria', 'Bahamas, The',\n",
       "       'Bosnia and Herzegovina', 'Belarus', 'Belize', 'Bolivia',\n",
       "       'Barbados', 'Brunei Darussalam', 'Bhutan', 'Botswana',\n",
       "       'Central African Republic', 'Central Europe and the Baltics',\n",
       "       'Channel Islands', \"Cote d'Ivoire\", 'Cameroon', 'Congo, Dem. Rep.',\n",
       "       'Congo, Rep.', 'Comoros', 'Cabo Verde', 'Costa Rica',\n",
       "       'Caribbean small states', 'Cuba', 'Curacao', 'Djibouti',\n",
       "       'Dominica', 'Dominican Republic',\n",
       "       'East Asia & Pacific (excluding high income)',\n",
       "       'Early-demographic dividend', 'East Asia & Pacific',\n",
       "       'Europe & Central Asia (excluding high income)',\n",
       "       'Europe & Central Asia', 'Ecuador', 'Egypt, Arab Rep.',\n",
       "       'Euro area', 'Eritrea', 'Estonia', 'Ethiopia', 'European Union',\n",
       "       'Fragile and conflict affected situations', 'Fiji',\n",
       "       'Faroe Islands', 'Micronesia, Fed. Sts.', 'Gabon', 'Ghana',\n",
       "       'Guinea', 'Gambia, The', 'Guinea-Bissau', 'Equatorial Guinea',\n",
       "       'Grenada', 'Greenland', 'Guatemala', 'Guam', 'Guyana',\n",
       "       'High income', 'Hong Kong SAR, China', 'Honduras',\n",
       "       'Heavily indebted poor countries (HIPC)', 'Croatia', 'Haiti',\n",
       "       'IBRD only', 'IDA & IBRD total', 'IDA total', 'IDA blend',\n",
       "       'IDA only', 'Isle of Man', 'Iran, Islamic Rep.', 'Iraq', 'Iceland',\n",
       "       'Jamaica', 'Jordan', 'Kenya', 'Kyrgyz Republic', 'Kiribati',\n",
       "       'St. Kitts and Nevis', 'Korea, Rep.', 'Kuwait',\n",
       "       'Latin America & Caribbean (excluding high income)', 'Lao PDR',\n",
       "       'Liberia', 'Libya', 'St. Lucia', 'Latin America & Caribbean',\n",
       "       'Least developed countries: UN classification', 'Low income',\n",
       "       'Sri Lanka', 'Lower middle income', 'Low & middle income',\n",
       "       'Lesotho', 'Late-demographic dividend', 'Lithuania',\n",
       "       'Macao SAR, China', 'St. Martin (French part)', 'Moldova',\n",
       "       'Madagascar', 'Maldives', 'Middle East & North Africa',\n",
       "       'Marshall Islands', 'Middle income', 'North Macedonia', 'Mali',\n",
       "       'Malta', 'Myanmar',\n",
       "       'Middle East & North Africa (excluding high income)', 'Montenegro',\n",
       "       'Mongolia', 'Northern Mariana Islands', 'Mozambique', 'Mauritania',\n",
       "       'Mauritius', 'Malawi', 'North America', 'Namibia', 'New Caledonia',\n",
       "       'Niger', 'Nicaragua', 'Nauru', 'OECD members',\n",
       "       'Other small states', 'Pakistan', 'Panama', 'Palau',\n",
       "       'Papua New Guinea', 'Pre-demographic dividend', 'Puerto Rico',\n",
       "       'Paraguay', 'West Bank and Gaza', 'Pacific island small states',\n",
       "       'Post-demographic dividend', 'French Polynesia', 'Rwanda',\n",
       "       'South Asia', 'Saudi Arabia', 'Sudan', 'Senegal',\n",
       "       'Solomon Islands', 'Sierra Leone', 'El Salvador', 'San Marino',\n",
       "       'Somalia', 'Serbia', 'Sub-Saharan Africa (excluding high income)',\n",
       "       'South Sudan', 'Sub-Saharan Africa', 'Small states',\n",
       "       'Sao Tome and Principe', 'Suriname', 'Slovak Republic', 'Slovenia',\n",
       "       'Eswatini', 'Sint Maarten (Dutch part)', 'Seychelles',\n",
       "       'Syrian Arab Republic', 'Chad',\n",
       "       'East Asia & Pacific (IDA & IBRD countries)',\n",
       "       'Europe & Central Asia (IDA & IBRD countries)', 'Togo',\n",
       "       'Tajikistan', 'Turkmenistan',\n",
       "       'Latin America & the Caribbean (IDA & IBRD countries)',\n",
       "       'Timor-Leste', 'Middle East & North Africa (IDA & IBRD countries)',\n",
       "       'Tonga', 'South Asia (IDA & IBRD)',\n",
       "       'Sub-Saharan Africa (IDA & IBRD countries)', 'Trinidad and Tobago',\n",
       "       'Tunisia', 'Turkiye', 'Tuvalu', 'Tanzania', 'Uganda',\n",
       "       'Upper middle income', 'St. Vincent and the Grenadines',\n",
       "       'Venezuela, RB', 'Virgin Islands (U.S.)', 'Vanuatu', 'World',\n",
       "       'Samoa', 'Kosovo', 'Yemen, Rep.', 'Zambia', 'Zimbabwe',\n",
       "       'Gibraltar', \"Korea, Dem. People's Rep.\"], dtype=object)"
      ]
     },
     "execution_count": 49,
     "metadata": {},
     "output_type": "execute_result"
    }
   ],
   "source": [
    "# vice versa to identify 'duplicate' countries under a different name\n",
    "wb.country.loc[~wb.country.isin(bill_country.country)].unique()"
   ]
  },
  {
   "cell_type": "code",
   "execution_count": 50,
   "id": "7d9f6d43-edfb-4eec-a08b-48e504a57990",
   "metadata": {},
   "outputs": [],
   "source": [
    "wb.country.replace({'Hong Kong SAR, China': 'Hong Kong, China (SAR)',\n",
    "                    'Korea, Rep.': 'Korea (Republic of)', \n",
    "                    'Egypt, Arab Rep.': 'Egypt',\n",
    "                    'Eswatini': 'Eswatini (Kingdom of)',\n",
    "                    'Bahamas, The': 'Bahamas', \n",
    "                    'Turkiye': 'Türkiye',\n",
    "                    'Slovak Republic': 'Slovakia',\n",
    "                    'Tanzania': 'Tanzania (United Republic of)'}, inplace=True)"
   ]
  },
  {
   "cell_type": "code",
   "execution_count": 51,
   "id": "812b7708-1556-4e0e-9148-4e96b75885c6",
   "metadata": {},
   "outputs": [],
   "source": [
    "bill_country = bill_country.merge(wb, on='country', how='left')"
   ]
  },
  {
   "cell_type": "code",
   "execution_count": 52,
   "id": "42ce9444-59f6-4e7a-9c45-f6f90676ecc6",
   "metadata": {},
   "outputs": [
    {
     "data": {
      "text/html": [
       "<div>\n",
       "<style scoped>\n",
       "    .dataframe tbody tr th:only-of-type {\n",
       "        vertical-align: middle;\n",
       "    }\n",
       "\n",
       "    .dataframe tbody tr th {\n",
       "        vertical-align: top;\n",
       "    }\n",
       "\n",
       "    .dataframe thead th {\n",
       "        text-align: right;\n",
       "    }\n",
       "</style>\n",
       "<table border=\"1\" class=\"dataframe\">\n",
       "  <thead>\n",
       "    <tr style=\"text-align: right;\">\n",
       "      <th></th>\n",
       "      <th>rank</th>\n",
       "      <th>finalWorth</th>\n",
       "      <th>personName</th>\n",
       "      <th>age</th>\n",
       "      <th>country</th>\n",
       "      <th>city</th>\n",
       "      <th>source</th>\n",
       "      <th>industries</th>\n",
       "      <th>countryOfCitizenship</th>\n",
       "      <th>selfMade</th>\n",
       "      <th>...</th>\n",
       "      <th>hdi</th>\n",
       "      <th>life_expectancy</th>\n",
       "      <th>expected_years_schooling</th>\n",
       "      <th>mean_years_schooling</th>\n",
       "      <th>gni_per_capita</th>\n",
       "      <th>hdi_tier</th>\n",
       "      <th>gdp_2022</th>\n",
       "      <th>tax_rev_2021</th>\n",
       "      <th>edu_primary_2022</th>\n",
       "      <th>edu_tertiary_2022</th>\n",
       "    </tr>\n",
       "  </thead>\n",
       "  <tbody>\n",
       "    <tr>\n",
       "      <th>0</th>\n",
       "      <td>1</td>\n",
       "      <td>211000000000</td>\n",
       "      <td>Bernard Arnault &amp; family</td>\n",
       "      <td>74.0</td>\n",
       "      <td>France</td>\n",
       "      <td>Paris</td>\n",
       "      <td>LVMH</td>\n",
       "      <td>Fashion &amp; Retail</td>\n",
       "      <td>France</td>\n",
       "      <td>False</td>\n",
       "      <td>...</td>\n",
       "      <td>0.903</td>\n",
       "      <td>82.5</td>\n",
       "      <td>15.8</td>\n",
       "      <td>11.6</td>\n",
       "      <td>45937.0</td>\n",
       "      <td>Very high</td>\n",
       "      <td>2.782905e+12</td>\n",
       "      <td>23.968339</td>\n",
       "      <td>102.744186</td>\n",
       "      <td>68.974854</td>\n",
       "    </tr>\n",
       "    <tr>\n",
       "      <th>1</th>\n",
       "      <td>2</td>\n",
       "      <td>180000000000</td>\n",
       "      <td>Elon Musk</td>\n",
       "      <td>51.0</td>\n",
       "      <td>United States</td>\n",
       "      <td>Austin</td>\n",
       "      <td>Tesla, SpaceX</td>\n",
       "      <td>Automotive</td>\n",
       "      <td>United States</td>\n",
       "      <td>True</td>\n",
       "      <td>...</td>\n",
       "      <td>0.921</td>\n",
       "      <td>77.2</td>\n",
       "      <td>16.3</td>\n",
       "      <td>13.7</td>\n",
       "      <td>64765.0</td>\n",
       "      <td>Very high</td>\n",
       "      <td>2.546270e+13</td>\n",
       "      <td>11.233620</td>\n",
       "      <td>98.305489</td>\n",
       "      <td>84.855087</td>\n",
       "    </tr>\n",
       "    <tr>\n",
       "      <th>2</th>\n",
       "      <td>3</td>\n",
       "      <td>114000000000</td>\n",
       "      <td>Jeff Bezos</td>\n",
       "      <td>59.0</td>\n",
       "      <td>United States</td>\n",
       "      <td>Medina</td>\n",
       "      <td>Amazon</td>\n",
       "      <td>Technology</td>\n",
       "      <td>United States</td>\n",
       "      <td>True</td>\n",
       "      <td>...</td>\n",
       "      <td>0.921</td>\n",
       "      <td>77.2</td>\n",
       "      <td>16.3</td>\n",
       "      <td>13.7</td>\n",
       "      <td>64765.0</td>\n",
       "      <td>Very high</td>\n",
       "      <td>2.546270e+13</td>\n",
       "      <td>11.233620</td>\n",
       "      <td>98.305489</td>\n",
       "      <td>84.855087</td>\n",
       "    </tr>\n",
       "    <tr>\n",
       "      <th>3</th>\n",
       "      <td>4</td>\n",
       "      <td>107000000000</td>\n",
       "      <td>Larry Ellison</td>\n",
       "      <td>78.0</td>\n",
       "      <td>United States</td>\n",
       "      <td>Lanai</td>\n",
       "      <td>Oracle</td>\n",
       "      <td>Technology</td>\n",
       "      <td>United States</td>\n",
       "      <td>True</td>\n",
       "      <td>...</td>\n",
       "      <td>0.921</td>\n",
       "      <td>77.2</td>\n",
       "      <td>16.3</td>\n",
       "      <td>13.7</td>\n",
       "      <td>64765.0</td>\n",
       "      <td>Very high</td>\n",
       "      <td>2.546270e+13</td>\n",
       "      <td>11.233620</td>\n",
       "      <td>98.305489</td>\n",
       "      <td>84.855087</td>\n",
       "    </tr>\n",
       "    <tr>\n",
       "      <th>4</th>\n",
       "      <td>5</td>\n",
       "      <td>106000000000</td>\n",
       "      <td>Warren Buffett</td>\n",
       "      <td>92.0</td>\n",
       "      <td>United States</td>\n",
       "      <td>Omaha</td>\n",
       "      <td>Berkshire Hathaway</td>\n",
       "      <td>Finance &amp; Investments</td>\n",
       "      <td>United States</td>\n",
       "      <td>True</td>\n",
       "      <td>...</td>\n",
       "      <td>0.921</td>\n",
       "      <td>77.2</td>\n",
       "      <td>16.3</td>\n",
       "      <td>13.7</td>\n",
       "      <td>64765.0</td>\n",
       "      <td>Very high</td>\n",
       "      <td>2.546270e+13</td>\n",
       "      <td>11.233620</td>\n",
       "      <td>98.305489</td>\n",
       "      <td>84.855087</td>\n",
       "    </tr>\n",
       "  </tbody>\n",
       "</table>\n",
       "<p>5 rows × 23 columns</p>\n",
       "</div>"
      ],
      "text/plain": [
       "   rank    finalWorth                personName   age        country    city  \\\n",
       "0     1  211000000000  Bernard Arnault & family  74.0         France   Paris   \n",
       "1     2  180000000000                 Elon Musk  51.0  United States  Austin   \n",
       "2     3  114000000000                Jeff Bezos  59.0  United States  Medina   \n",
       "3     4  107000000000             Larry Ellison  78.0  United States   Lanai   \n",
       "4     5  106000000000            Warren Buffett  92.0  United States   Omaha   \n",
       "\n",
       "               source             industries countryOfCitizenship  selfMade  \\\n",
       "0                LVMH       Fashion & Retail               France     False   \n",
       "1       Tesla, SpaceX             Automotive        United States      True   \n",
       "2              Amazon             Technology        United States      True   \n",
       "3              Oracle             Technology        United States      True   \n",
       "4  Berkshire Hathaway  Finance & Investments        United States      True   \n",
       "\n",
       "   ...    hdi life_expectancy  expected_years_schooling  mean_years_schooling  \\\n",
       "0  ...  0.903            82.5                      15.8                  11.6   \n",
       "1  ...  0.921            77.2                      16.3                  13.7   \n",
       "2  ...  0.921            77.2                      16.3                  13.7   \n",
       "3  ...  0.921            77.2                      16.3                  13.7   \n",
       "4  ...  0.921            77.2                      16.3                  13.7   \n",
       "\n",
       "   gni_per_capita   hdi_tier      gdp_2022  tax_rev_2021 edu_primary_2022  \\\n",
       "0         45937.0  Very high  2.782905e+12     23.968339       102.744186   \n",
       "1         64765.0  Very high  2.546270e+13     11.233620        98.305489   \n",
       "2         64765.0  Very high  2.546270e+13     11.233620        98.305489   \n",
       "3         64765.0  Very high  2.546270e+13     11.233620        98.305489   \n",
       "4         64765.0  Very high  2.546270e+13     11.233620        98.305489   \n",
       "\n",
       "   edu_tertiary_2022  \n",
       "0          68.974854  \n",
       "1          84.855087  \n",
       "2          84.855087  \n",
       "3          84.855087  \n",
       "4          84.855087  \n",
       "\n",
       "[5 rows x 23 columns]"
      ]
     },
     "execution_count": 52,
     "metadata": {},
     "output_type": "execute_result"
    }
   ],
   "source": [
    "bill_country.head()"
   ]
  },
  {
   "cell_type": "code",
   "execution_count": 53,
   "id": "79fc4270-a5dd-4296-887c-a858cf75b7cf",
   "metadata": {},
   "outputs": [
    {
     "name": "stdout",
     "output_type": "stream",
     "text": [
      "<class 'pandas.core.frame.DataFrame'>\n",
      "RangeIndex: 2602 entries, 0 to 2601\n",
      "Data columns (total 23 columns):\n",
      " #   Column                    Non-Null Count  Dtype         \n",
      "---  ------                    --------------  -----         \n",
      " 0   rank                      2602 non-null   int64         \n",
      " 1   finalWorth                2602 non-null   int64         \n",
      " 2   personName                2602 non-null   object        \n",
      " 3   age                       2549 non-null   float64       \n",
      " 4   country                   2602 non-null   object        \n",
      " 5   city                      2568 non-null   object        \n",
      " 6   source                    2602 non-null   object        \n",
      " 7   industries                2602 non-null   object        \n",
      " 8   countryOfCitizenship      2602 non-null   object        \n",
      " 9   selfMade                  2602 non-null   bool          \n",
      " 10  gender                    2602 non-null   object        \n",
      " 11  birthDate                 2538 non-null   datetime64[ns]\n",
      " 12  hdi_rank_2021             2534 non-null   float64       \n",
      " 13  hdi                       2534 non-null   float64       \n",
      " 14  life_expectancy           2534 non-null   float64       \n",
      " 15  expected_years_schooling  2534 non-null   float64       \n",
      " 16  mean_years_schooling      2534 non-null   float64       \n",
      " 17  gni_per_capita            2534 non-null   float64       \n",
      " 18  hdi_tier                  2534 non-null   category      \n",
      " 19  gdp_2022                  2557 non-null   float64       \n",
      " 20  tax_rev_2021              2450 non-null   float64       \n",
      " 21  edu_primary_2022          2558 non-null   float64       \n",
      " 22  edu_tertiary_2022         2558 non-null   float64       \n",
      "dtypes: bool(1), category(1), datetime64[ns](1), float64(11), int64(2), object(7)\n",
      "memory usage: 432.3+ KB\n"
     ]
    }
   ],
   "source": [
    "bill_country.info()"
   ]
  },
  {
   "cell_type": "markdown",
   "id": "ce21a46c-3fbe-48d0-af72-dd1a97b69758",
   "metadata": {},
   "source": [
    "#### Movement"
   ]
  },
  {
   "cell_type": "code",
   "execution_count": 54,
   "id": "9d3c26ed-c4eb-499c-9154-15c44e1443f5",
   "metadata": {},
   "outputs": [],
   "source": [
    "bill_movement = bill_country[['rank', 'finalWorth', 'personName', 'country', 'industries', 'countryOfCitizenship']].copy()"
   ]
  },
  {
   "cell_type": "code",
   "execution_count": 55,
   "id": "ec1be0b4-f57b-4c5d-a2ef-ce43caf934fb",
   "metadata": {},
   "outputs": [],
   "source": [
    "movement = []\n",
    "\n",
    "for i,v in enumerate(bill_movement.countryOfCitizenship):\n",
    "    if bill_movement.countryOfCitizenship[i] == bill_movement.country[i]: \n",
    "        movement.append('False')\n",
    "    else:\n",
    "        movement.append('True')\n",
    "\n",
    "bill_movement['movement?'] = movement"
   ]
  },
  {
   "cell_type": "code",
   "execution_count": 56,
   "id": "5a54bc0f-51ef-491d-a2c3-770ad102ce03",
   "metadata": {},
   "outputs": [],
   "source": [
    "bill_movement = bill_movement[bill_movement['movement?'] == 'True']"
   ]
  },
  {
   "cell_type": "code",
   "execution_count": 57,
   "id": "faa4387a-a919-4f68-b57c-341f73721e57",
   "metadata": {},
   "outputs": [
    {
     "data": {
      "text/plain": [
       "industries\n",
       "Finance & Investments         67\n",
       "Diversified                   48\n",
       "Fashion & Retail              46\n",
       "Real Estate                   43\n",
       "Technology                    43\n",
       "Manufacturing                 39\n",
       "Energy                        32\n",
       "Metals & Mining               30\n",
       "Food & Beverage               29\n",
       "Healthcare                    26\n",
       "Construction & Engineering    13\n",
       "Automotive                    11\n",
       "Service                       10\n",
       "Logistics                     10\n",
       "Media & Entertainment         10\n",
       "Telecom                        8\n",
       "Gambling & Casinos             6\n",
       "Sports                         2\n",
       "Name: count, dtype: int64"
      ]
     },
     "execution_count": 57,
     "metadata": {},
     "output_type": "execute_result"
    }
   ],
   "source": [
    "bill_movement['industries'].value_counts()"
   ]
  },
  {
   "cell_type": "markdown",
   "id": "3481649c-fd98-4058-be35-2c5c0e1c22d0",
   "metadata": {},
   "source": [
    "### Are billionaries Self Made?\n",
    "#### Breaking it down by Age and Industry"
   ]
  },
  {
   "cell_type": "code",
   "execution_count": 58,
   "id": "03333e84-5dff-4375-a6e9-b9f02d79f7a1",
   "metadata": {},
   "outputs": [
    {
     "name": "stdout",
     "output_type": "stream",
     "text": [
      "<class 'pandas.core.frame.DataFrame'>\n",
      "RangeIndex: 2640 entries, 0 to 2639\n",
      "Data columns (total 12 columns):\n",
      " #   Column                Non-Null Count  Dtype         \n",
      "---  ------                --------------  -----         \n",
      " 0   rank                  2640 non-null   int64         \n",
      " 1   finalWorth            2640 non-null   int64         \n",
      " 2   personName            2640 non-null   object        \n",
      " 3   age                   2575 non-null   float64       \n",
      " 4   country               2602 non-null   object        \n",
      " 5   city                  2568 non-null   object        \n",
      " 6   source                2640 non-null   object        \n",
      " 7   industries            2640 non-null   object        \n",
      " 8   countryOfCitizenship  2640 non-null   object        \n",
      " 9   selfMade              2640 non-null   bool          \n",
      " 10  gender                2640 non-null   object        \n",
      " 11  birthDate             2564 non-null   datetime64[ns]\n",
      "dtypes: bool(1), datetime64[ns](1), float64(1), int64(2), object(7)\n",
      "memory usage: 229.6+ KB\n"
     ]
    }
   ],
   "source": [
    "bill.info()"
   ]
  },
  {
   "cell_type": "code",
   "execution_count": 59,
   "id": "57294598-f262-4d94-b3ac-f2ec9414bf7f",
   "metadata": {},
   "outputs": [
    {
     "data": {
      "text/plain": [
       "selfMade\n",
       "True     0.686364\n",
       "False    0.313636\n",
       "Name: proportion, dtype: float64"
      ]
     },
     "execution_count": 59,
     "metadata": {},
     "output_type": "execute_result"
    }
   ],
   "source": [
    "# looking at the % of self-made billionaires\n",
    "bill.selfMade.value_counts(normalize=True)"
   ]
  },
  {
   "cell_type": "markdown",
   "id": "f19c23a0-2211-4b04-8a40-dd64e0983fe6",
   "metadata": {},
   "source": [
    "### Billionaire Birthdays and Star Signs"
   ]
  },
  {
   "cell_type": "code",
   "execution_count": 60,
   "id": "92a9167d-1c60-4080-a91a-b1e158354b08",
   "metadata": {},
   "outputs": [],
   "source": [
    "# creating df with billionaires where birthday info is available\n",
    "birthday = bill[bill['birthDate'].notna()].reset_index()"
   ]
  },
  {
   "cell_type": "markdown",
   "id": "ad4bf470-b4f0-4267-8985-80eddb56eb90",
   "metadata": {},
   "source": [
    "Taking a look at the distribution of birth dates, we can see clearly that the 1st of January is the most popular birthday. After cross checking a number of these birthdays with Google, it appears that the data is incorrect and that the 1st of January has been used as a placeholder for unknown birthdays/ nulls. To avoid skewing the data, I removed these rows. "
   ]
  },
  {
   "cell_type": "code",
   "execution_count": 61,
   "id": "ff65bdd4-fd78-4bbb-8ded-8893ae987716",
   "metadata": {},
   "outputs": [
    {
     "data": {
      "text/plain": [
       "birthDate\n",
       "01-01    375\n",
       "01-07     38\n",
       "01-10     37\n",
       "01-12     35\n",
       "01-04     34\n",
       "        ... \n",
       "23-11      1\n",
       "31-08      1\n",
       "07-02      1\n",
       "06-12      1\n",
       "28-02      1\n",
       "Name: count, Length: 363, dtype: int64"
      ]
     },
     "execution_count": 61,
     "metadata": {},
     "output_type": "execute_result"
    }
   ],
   "source": [
    "birthday_dist = birthday['birthDate'].apply(lambda x: x.strftime('%d-%m')) \n",
    "\n",
    "# checking the value counts of each birth date\n",
    "birthday_dist.value_counts()"
   ]
  },
  {
   "cell_type": "code",
   "execution_count": 62,
   "id": "dbb57bcc-c62c-45ba-b063-d540d6634a47",
   "metadata": {},
   "outputs": [],
   "source": [
    "# dropping 1/1 birthdays\n",
    "birthday.drop(birthday[(birthday.birthDate.dt.day==1) & (birthday.birthDate.dt.month==1)].index, inplace=True)"
   ]
  },
  {
   "cell_type": "code",
   "execution_count": 63,
   "id": "59b21130-8b88-48a8-a3de-7243c84e4d91",
   "metadata": {},
   "outputs": [],
   "source": [
    "# creating list of zodiacs with corresponding end dates \n",
    "zodiacs = [(120, 'Capricorn'), (218, 'Aquarius'), (320, 'Pisces'), (420, 'Aries'), (521, 'Taurus'),\n",
    "           (621, 'Gemini'), (722, 'Cancer'), (823, 'Leo'), (923, 'Virgo'), (1023, 'Libra'),\n",
    "           (1122, 'Scorpio'), (1222, 'Sagittarius'), (1231, 'Capricorn')]\n",
    "\n",
    "def zodiac(date):\n",
    "    '''\n",
    "    '''\n",
    "    date_no = int(\"\".join((str(date.date().month), '%02d' % date.date().day)))\n",
    "    for i in zodiacs:\n",
    "        if date_no <= i[0]:\n",
    "            return i[1]"
   ]
  },
  {
   "cell_type": "code",
   "execution_count": 64,
   "id": "a50abf96-8086-4a56-b929-74834cc2f6c8",
   "metadata": {},
   "outputs": [],
   "source": [
    "birthday['starSign'] = birthday.birthDate.map(lambda x: zodiac(x))"
   ]
  },
  {
   "cell_type": "code",
   "execution_count": 65,
   "id": "2474ec1c-23fe-48c0-bcda-4bf317d519fc",
   "metadata": {},
   "outputs": [
    {
     "name": "stdout",
     "output_type": "stream",
     "text": [
      "<class 'pandas.core.frame.DataFrame'>\n",
      "Index: 2189 entries, 0 to 2563\n",
      "Data columns (total 14 columns):\n",
      " #   Column                Non-Null Count  Dtype         \n",
      "---  ------                --------------  -----         \n",
      " 0   index                 2189 non-null   int64         \n",
      " 1   rank                  2189 non-null   int64         \n",
      " 2   finalWorth            2189 non-null   int64         \n",
      " 3   personName            2189 non-null   object        \n",
      " 4   age                   2188 non-null   float64       \n",
      " 5   country               2166 non-null   object        \n",
      " 6   city                  2140 non-null   object        \n",
      " 7   source                2189 non-null   object        \n",
      " 8   industries            2189 non-null   object        \n",
      " 9   countryOfCitizenship  2189 non-null   object        \n",
      " 10  selfMade              2189 non-null   bool          \n",
      " 11  gender                2189 non-null   object        \n",
      " 12  birthDate             2189 non-null   datetime64[ns]\n",
      " 13  starSign              2189 non-null   object        \n",
      "dtypes: bool(1), datetime64[ns](1), float64(1), int64(3), object(8)\n",
      "memory usage: 241.6+ KB\n"
     ]
    }
   ],
   "source": [
    "birthday.info()"
   ]
  },
  {
   "cell_type": "markdown",
   "id": "0045e835-c297-456b-8628-59109a71c526",
   "metadata": {},
   "source": [
    "## Evaluation"
   ]
  },
  {
   "cell_type": "code",
   "execution_count": 66,
   "id": "593d3899-6954-4043-87dc-d1e3a4e3d5bb",
   "metadata": {},
   "outputs": [],
   "source": [
    "bill_selfMade = bill[bill.selfMade == True]\n",
    "bill_inherited = bill[bill.selfMade != True]"
   ]
  },
  {
   "cell_type": "code",
   "execution_count": 67,
   "id": "f4cea7b4-a0b0-46b8-a7e3-e63c43a9acc1",
   "metadata": {},
   "outputs": [
    {
     "name": "stdout",
     "output_type": "stream",
     "text": [
      "Gender Split (Self-made): gender\n",
      "M    0.94702\n",
      "F    0.05298\n",
      "Name: proportion, dtype: float64 \n",
      "\n",
      "Gender Split (Inherited): gender\n",
      "M    0.708937\n",
      "F    0.291063\n",
      "Name: proportion, dtype: float64\n"
     ]
    }
   ],
   "source": [
    "print(f'Gender Split (Self-made): {bill_selfMade.gender.value_counts(normalize=True)} \\n')\n",
    "print(f'Gender Split (Inherited): {bill_inherited.gender.value_counts(normalize=True)}')"
   ]
  },
  {
   "cell_type": "code",
   "execution_count": 68,
   "id": "0919590b-bb1e-4a88-80e3-856d9f99b26d",
   "metadata": {},
   "outputs": [
    {
     "data": {
      "image/png": "[encoded data removed]",
      "text/plain": [
       "<Figure size 1200x400 with 1 Axes>"
      ]
     },
     "metadata": {},
     "output_type": "display_data"
    }
   ],
   "source": [
    "fig, ax = plt.subplots(figsize=(12,4))\n",
    "sns.countplot(data=bill_selfMade, \n",
    "              x='industries',\n",
    "              palette='Greens',\n",
    "              order=bill_selfMade['industries'].value_counts().index).set(title=\"Industries (Self-made Billionaires)\")\n",
    "plt.xticks(rotation=90)\n",
    "plt.xlabel('Industry')\n",
    "plt.ylabel('Count');"
   ]
  },
  {
   "cell_type": "code",
   "execution_count": 69,
   "id": "8aaed981-fc57-4392-9c8f-1a48b02e2f76",
   "metadata": {},
   "outputs": [
    {
     "data": {
      "image/png": "[encoded data removed]",
      "text/plain": [
       "<Figure size 1200x400 with 1 Axes>"
      ]
     },
     "metadata": {},
     "output_type": "display_data"
    }
   ],
   "source": [
    "fig, ax = plt.subplots(figsize=(12,4))\n",
    "sns.countplot(data=bill_inherited, \n",
    "              x='industries',\n",
    "              palette='PuRd',\n",
    "              order=bill_inherited['industries'].value_counts().index).set(title=\"Industries (Inherited)\")\n",
    "plt.xticks(rotation=90)\n",
    "plt.xlabel('Industry')\n",
    "plt.ylabel('Count');"
   ]
  },
  {
   "cell_type": "code",
   "execution_count": 70,
   "id": "7c7082d1-99c4-4a19-8b7d-84df68220943",
   "metadata": {},
   "outputs": [
    {
     "data": {
      "text/html": [
       "<div>\n",
       "<style scoped>\n",
       "    .dataframe tbody tr th:only-of-type {\n",
       "        vertical-align: middle;\n",
       "    }\n",
       "\n",
       "    .dataframe tbody tr th {\n",
       "        vertical-align: top;\n",
       "    }\n",
       "\n",
       "    .dataframe thead th {\n",
       "        text-align: right;\n",
       "    }\n",
       "</style>\n",
       "<table border=\"1\" class=\"dataframe\">\n",
       "  <thead>\n",
       "    <tr style=\"text-align: right;\">\n",
       "      <th></th>\n",
       "      <th>finalWorth</th>\n",
       "      <th>age</th>\n",
       "    </tr>\n",
       "  </thead>\n",
       "  <tbody>\n",
       "    <tr>\n",
       "      <th>count</th>\n",
       "      <td>1812.00</td>\n",
       "      <td>1788.00</td>\n",
       "    </tr>\n",
       "    <tr>\n",
       "      <th>mean</th>\n",
       "      <td>4465397350.99</td>\n",
       "      <td>64.70</td>\n",
       "    </tr>\n",
       "    <tr>\n",
       "      <th>std</th>\n",
       "      <td>9455299245.86</td>\n",
       "      <td>12.93</td>\n",
       "    </tr>\n",
       "    <tr>\n",
       "      <th>min</th>\n",
       "      <td>1000000000.00</td>\n",
       "      <td>28.00</td>\n",
       "    </tr>\n",
       "    <tr>\n",
       "      <th>25%</th>\n",
       "      <td>1500000000.00</td>\n",
       "      <td>56.00</td>\n",
       "    </tr>\n",
       "    <tr>\n",
       "      <th>50%</th>\n",
       "      <td>2200000000.00</td>\n",
       "      <td>64.00</td>\n",
       "    </tr>\n",
       "    <tr>\n",
       "      <th>75%</th>\n",
       "      <td>4100000000.00</td>\n",
       "      <td>74.00</td>\n",
       "    </tr>\n",
       "    <tr>\n",
       "      <th>max</th>\n",
       "      <td>180000000000.00</td>\n",
       "      <td>101.00</td>\n",
       "    </tr>\n",
       "  </tbody>\n",
       "</table>\n",
       "</div>"
      ],
      "text/plain": [
       "            finalWorth      age\n",
       "count          1812.00  1788.00\n",
       "mean     4465397350.99    64.70\n",
       "std      9455299245.86    12.93\n",
       "min      1000000000.00    28.00\n",
       "25%      1500000000.00    56.00\n",
       "50%      2200000000.00    64.00\n",
       "75%      4100000000.00    74.00\n",
       "max    180000000000.00   101.00"
      ]
     },
     "execution_count": 70,
     "metadata": {},
     "output_type": "execute_result"
    }
   ],
   "source": [
    "bill_selfMade[['finalWorth', 'age']].describe().apply(lambda x: x.apply('{0:.2f}'.format))"
   ]
  },
  {
   "cell_type": "code",
   "execution_count": 71,
   "id": "a2a23545-7679-492b-a8cb-7a1dd5df7bda",
   "metadata": {},
   "outputs": [
    {
     "data": {
      "text/html": [
       "<div>\n",
       "<style scoped>\n",
       "    .dataframe tbody tr th:only-of-type {\n",
       "        vertical-align: middle;\n",
       "    }\n",
       "\n",
       "    .dataframe tbody tr th {\n",
       "        vertical-align: top;\n",
       "    }\n",
       "\n",
       "    .dataframe thead th {\n",
       "        text-align: right;\n",
       "    }\n",
       "</style>\n",
       "<table border=\"1\" class=\"dataframe\">\n",
       "  <thead>\n",
       "    <tr style=\"text-align: right;\">\n",
       "      <th></th>\n",
       "      <th>finalWorth</th>\n",
       "      <th>age</th>\n",
       "    </tr>\n",
       "  </thead>\n",
       "  <tbody>\n",
       "    <tr>\n",
       "      <th>count</th>\n",
       "      <td>828.00</td>\n",
       "      <td>787.00</td>\n",
       "    </tr>\n",
       "    <tr>\n",
       "      <th>mean</th>\n",
       "      <td>4970410628.02</td>\n",
       "      <td>66.15</td>\n",
       "    </tr>\n",
       "    <tr>\n",
       "      <th>std</th>\n",
       "      <td>10614182810.54</td>\n",
       "      <td>13.93</td>\n",
       "    </tr>\n",
       "    <tr>\n",
       "      <th>min</th>\n",
       "      <td>1000000000.00</td>\n",
       "      <td>18.00</td>\n",
       "    </tr>\n",
       "    <tr>\n",
       "      <th>25%</th>\n",
       "      <td>1600000000.00</td>\n",
       "      <td>58.00</td>\n",
       "    </tr>\n",
       "    <tr>\n",
       "      <th>50%</th>\n",
       "      <td>2600000000.00</td>\n",
       "      <td>68.00</td>\n",
       "    </tr>\n",
       "    <tr>\n",
       "      <th>75%</th>\n",
       "      <td>4625000000.00</td>\n",
       "      <td>76.00</td>\n",
       "    </tr>\n",
       "    <tr>\n",
       "      <th>max</th>\n",
       "      <td>211000000000.00</td>\n",
       "      <td>99.00</td>\n",
       "    </tr>\n",
       "  </tbody>\n",
       "</table>\n",
       "</div>"
      ],
      "text/plain": [
       "            finalWorth     age\n",
       "count           828.00  787.00\n",
       "mean     4970410628.02   66.15\n",
       "std     10614182810.54   13.93\n",
       "min      1000000000.00   18.00\n",
       "25%      1600000000.00   58.00\n",
       "50%      2600000000.00   68.00\n",
       "75%      4625000000.00   76.00\n",
       "max    211000000000.00   99.00"
      ]
     },
     "execution_count": 71,
     "metadata": {},
     "output_type": "execute_result"
    }
   ],
   "source": [
    "bill_inherited[['finalWorth', 'age']].describe().apply(lambda x: x.apply('{0:.2f}'.format))"
   ]
  },
  {
   "cell_type": "code",
   "execution_count": 72,
   "id": "142ecf44-0287-46ec-9036-f2a58fe3e08d",
   "metadata": {},
   "outputs": [
    {
     "data": {
      "text/html": [
       "<div>\n",
       "<style scoped>\n",
       "    .dataframe tbody tr th:only-of-type {\n",
       "        vertical-align: middle;\n",
       "    }\n",
       "\n",
       "    .dataframe tbody tr th {\n",
       "        vertical-align: top;\n",
       "    }\n",
       "\n",
       "    .dataframe thead th {\n",
       "        text-align: right;\n",
       "    }\n",
       "</style>\n",
       "<table border=\"1\" class=\"dataframe\">\n",
       "  <thead>\n",
       "    <tr style=\"text-align: right;\">\n",
       "      <th></th>\n",
       "      <th>finalWorth</th>\n",
       "      <th>age</th>\n",
       "    </tr>\n",
       "    <tr>\n",
       "      <th>industries</th>\n",
       "      <th></th>\n",
       "      <th></th>\n",
       "    </tr>\n",
       "  </thead>\n",
       "  <tbody>\n",
       "    <tr>\n",
       "      <th>Automotive</th>\n",
       "      <td>2600000000.00</td>\n",
       "      <td>61.00</td>\n",
       "    </tr>\n",
       "    <tr>\n",
       "      <th>Construction &amp; Engineering</th>\n",
       "      <td>2100000000.00</td>\n",
       "      <td>69.00</td>\n",
       "    </tr>\n",
       "    <tr>\n",
       "      <th>Diversified</th>\n",
       "      <td>2100000000.00</td>\n",
       "      <td>68.00</td>\n",
       "    </tr>\n",
       "    <tr>\n",
       "      <th>Energy</th>\n",
       "      <td>2200000000.00</td>\n",
       "      <td>65.00</td>\n",
       "    </tr>\n",
       "    <tr>\n",
       "      <th>Fashion &amp; Retail</th>\n",
       "      <td>2200000000.00</td>\n",
       "      <td>66.00</td>\n",
       "    </tr>\n",
       "    <tr>\n",
       "      <th>Finance &amp; Investments</th>\n",
       "      <td>2700000000.00</td>\n",
       "      <td>65.00</td>\n",
       "    </tr>\n",
       "    <tr>\n",
       "      <th>Food &amp; Beverage</th>\n",
       "      <td>2300000000.00</td>\n",
       "      <td>67.00</td>\n",
       "    </tr>\n",
       "    <tr>\n",
       "      <th>Gambling &amp; Casinos</th>\n",
       "      <td>3100000000.00</td>\n",
       "      <td>75.00</td>\n",
       "    </tr>\n",
       "    <tr>\n",
       "      <th>Healthcare</th>\n",
       "      <td>2000000000.00</td>\n",
       "      <td>64.50</td>\n",
       "    </tr>\n",
       "    <tr>\n",
       "      <th>Logistics</th>\n",
       "      <td>2200000000.00</td>\n",
       "      <td>68.00</td>\n",
       "    </tr>\n",
       "    <tr>\n",
       "      <th>Manufacturing</th>\n",
       "      <td>1900000000.00</td>\n",
       "      <td>61.50</td>\n",
       "    </tr>\n",
       "    <tr>\n",
       "      <th>Media &amp; Entertainment</th>\n",
       "      <td>2400000000.00</td>\n",
       "      <td>64.00</td>\n",
       "    </tr>\n",
       "    <tr>\n",
       "      <th>Metals &amp; Mining</th>\n",
       "      <td>2700000000.00</td>\n",
       "      <td>61.00</td>\n",
       "    </tr>\n",
       "    <tr>\n",
       "      <th>Real Estate</th>\n",
       "      <td>2200000000.00</td>\n",
       "      <td>70.00</td>\n",
       "    </tr>\n",
       "    <tr>\n",
       "      <th>Service</th>\n",
       "      <td>2400000000.00</td>\n",
       "      <td>70.00</td>\n",
       "    </tr>\n",
       "    <tr>\n",
       "      <th>Sports</th>\n",
       "      <td>2000000000.00</td>\n",
       "      <td>73.00</td>\n",
       "    </tr>\n",
       "    <tr>\n",
       "      <th>Technology</th>\n",
       "      <td>2200000000.00</td>\n",
       "      <td>57.00</td>\n",
       "    </tr>\n",
       "    <tr>\n",
       "      <th>Telecom</th>\n",
       "      <td>2750000000.00</td>\n",
       "      <td>67.00</td>\n",
       "    </tr>\n",
       "  </tbody>\n",
       "</table>\n",
       "</div>"
      ],
      "text/plain": [
       "                               finalWorth    age\n",
       "industries                                      \n",
       "Automotive                  2600000000.00  61.00\n",
       "Construction & Engineering  2100000000.00  69.00\n",
       "Diversified                 2100000000.00  68.00\n",
       "Energy                      2200000000.00  65.00\n",
       "Fashion & Retail            2200000000.00  66.00\n",
       "Finance & Investments       2700000000.00  65.00\n",
       "Food & Beverage             2300000000.00  67.00\n",
       "Gambling & Casinos          3100000000.00  75.00\n",
       "Healthcare                  2000000000.00  64.50\n",
       "Logistics                   2200000000.00  68.00\n",
       "Manufacturing               1900000000.00  61.50\n",
       "Media & Entertainment       2400000000.00  64.00\n",
       "Metals & Mining             2700000000.00  61.00\n",
       "Real Estate                 2200000000.00  70.00\n",
       "Service                     2400000000.00  70.00\n",
       "Sports                      2000000000.00  73.00\n",
       "Technology                  2200000000.00  57.00\n",
       "Telecom                     2750000000.00  67.00"
      ]
     },
     "execution_count": 72,
     "metadata": {},
     "output_type": "execute_result"
    }
   ],
   "source": [
    "bill_selfMade.groupby(bill_selfMade.industries)[['finalWorth', 'age']].median().apply(lambda x: x.apply('{0:.2f}'.format))"
   ]
  },
  {
   "cell_type": "code",
   "execution_count": 73,
   "id": "12b602c4-08b6-4ab8-b81a-5b0a0d618475",
   "metadata": {},
   "outputs": [
    {
     "data": {
      "text/html": [
       "<div>\n",
       "<style scoped>\n",
       "    .dataframe tbody tr th:only-of-type {\n",
       "        vertical-align: middle;\n",
       "    }\n",
       "\n",
       "    .dataframe tbody tr th {\n",
       "        vertical-align: top;\n",
       "    }\n",
       "\n",
       "    .dataframe thead th {\n",
       "        text-align: right;\n",
       "    }\n",
       "</style>\n",
       "<table border=\"1\" class=\"dataframe\">\n",
       "  <thead>\n",
       "    <tr style=\"text-align: right;\">\n",
       "      <th></th>\n",
       "      <th>finalWorth</th>\n",
       "      <th>age</th>\n",
       "    </tr>\n",
       "    <tr>\n",
       "      <th>industries</th>\n",
       "      <th></th>\n",
       "      <th></th>\n",
       "    </tr>\n",
       "  </thead>\n",
       "  <tbody>\n",
       "    <tr>\n",
       "      <th>Automotive</th>\n",
       "      <td>2550000000.00</td>\n",
       "      <td>73.00</td>\n",
       "    </tr>\n",
       "    <tr>\n",
       "      <th>Construction &amp; Engineering</th>\n",
       "      <td>2050000000.00</td>\n",
       "      <td>62.00</td>\n",
       "    </tr>\n",
       "    <tr>\n",
       "      <th>Diversified</th>\n",
       "      <td>2450000000.00</td>\n",
       "      <td>69.00</td>\n",
       "    </tr>\n",
       "    <tr>\n",
       "      <th>Energy</th>\n",
       "      <td>2900000000.00</td>\n",
       "      <td>77.00</td>\n",
       "    </tr>\n",
       "    <tr>\n",
       "      <th>Fashion &amp; Retail</th>\n",
       "      <td>3500000000.00</td>\n",
       "      <td>70.00</td>\n",
       "    </tr>\n",
       "    <tr>\n",
       "      <th>Finance &amp; Investments</th>\n",
       "      <td>2300000000.00</td>\n",
       "      <td>65.00</td>\n",
       "    </tr>\n",
       "    <tr>\n",
       "      <th>Food &amp; Beverage</th>\n",
       "      <td>2600000000.00</td>\n",
       "      <td>68.00</td>\n",
       "    </tr>\n",
       "    <tr>\n",
       "      <th>Gambling &amp; Casinos</th>\n",
       "      <td>1750000000.00</td>\n",
       "      <td>70.50</td>\n",
       "    </tr>\n",
       "    <tr>\n",
       "      <th>Healthcare</th>\n",
       "      <td>2300000000.00</td>\n",
       "      <td>63.00</td>\n",
       "    </tr>\n",
       "    <tr>\n",
       "      <th>Logistics</th>\n",
       "      <td>5700000000.00</td>\n",
       "      <td>65.50</td>\n",
       "    </tr>\n",
       "    <tr>\n",
       "      <th>Manufacturing</th>\n",
       "      <td>2000000000.00</td>\n",
       "      <td>64.00</td>\n",
       "    </tr>\n",
       "    <tr>\n",
       "      <th>Media &amp; Entertainment</th>\n",
       "      <td>2700000000.00</td>\n",
       "      <td>73.00</td>\n",
       "    </tr>\n",
       "    <tr>\n",
       "      <th>Metals &amp; Mining</th>\n",
       "      <td>2000000000.00</td>\n",
       "      <td>69.00</td>\n",
       "    </tr>\n",
       "    <tr>\n",
       "      <th>Real Estate</th>\n",
       "      <td>2700000000.00</td>\n",
       "      <td>67.50</td>\n",
       "    </tr>\n",
       "    <tr>\n",
       "      <th>Service</th>\n",
       "      <td>2800000000.00</td>\n",
       "      <td>65.00</td>\n",
       "    </tr>\n",
       "    <tr>\n",
       "      <th>Sports</th>\n",
       "      <td>2750000000.00</td>\n",
       "      <td>67.00</td>\n",
       "    </tr>\n",
       "    <tr>\n",
       "      <th>Technology</th>\n",
       "      <td>3200000000.00</td>\n",
       "      <td>60.50</td>\n",
       "    </tr>\n",
       "    <tr>\n",
       "      <th>Telecom</th>\n",
       "      <td>4000000000.00</td>\n",
       "      <td>67.00</td>\n",
       "    </tr>\n",
       "  </tbody>\n",
       "</table>\n",
       "</div>"
      ],
      "text/plain": [
       "                               finalWorth    age\n",
       "industries                                      \n",
       "Automotive                  2550000000.00  73.00\n",
       "Construction & Engineering  2050000000.00  62.00\n",
       "Diversified                 2450000000.00  69.00\n",
       "Energy                      2900000000.00  77.00\n",
       "Fashion & Retail            3500000000.00  70.00\n",
       "Finance & Investments       2300000000.00  65.00\n",
       "Food & Beverage             2600000000.00  68.00\n",
       "Gambling & Casinos          1750000000.00  70.50\n",
       "Healthcare                  2300000000.00  63.00\n",
       "Logistics                   5700000000.00  65.50\n",
       "Manufacturing               2000000000.00  64.00\n",
       "Media & Entertainment       2700000000.00  73.00\n",
       "Metals & Mining             2000000000.00  69.00\n",
       "Real Estate                 2700000000.00  67.50\n",
       "Service                     2800000000.00  65.00\n",
       "Sports                      2750000000.00  67.00\n",
       "Technology                  3200000000.00  60.50\n",
       "Telecom                     4000000000.00  67.00"
      ]
     },
     "execution_count": 73,
     "metadata": {},
     "output_type": "execute_result"
    }
   ],
   "source": [
    "bill_inherited.groupby(bill_inherited.industries)[['finalWorth', 'age']].median().apply(lambda x: x.apply('{0:.2f}'.format))"
   ]
  },
  {
   "cell_type": "code",
   "execution_count": 74,
   "id": "a0e86b73-1e29-4b07-971f-df72f63b3aa9",
   "metadata": {},
   "outputs": [
    {
     "data": {
      "image/png": "[encoded data removed]",
      "text/plain": [
       "<Figure size 1500x600 with 1 Axes>"
      ]
     },
     "metadata": {},
     "output_type": "display_data"
    }
   ],
   "source": [
    "fig, ax = plt.subplots(figsize=(15,6))\n",
    "sns.countplot(x=bill_country.countryOfCitizenship,\n",
    "              palette='Reds_r',\n",
    "              order=bill_country.countryOfCitizenship.value_counts().iloc[:20].index).set(title=\"Top 20 Countries by No. of Billionaires\")\n",
    "plt.xticks(rotation=90)\n",
    "plt.xlabel('Country of Citizenship')\n",
    "plt.ylabel('Count');"
   ]
  },
  {
   "cell_type": "code",
   "execution_count": 75,
   "id": "ae8d85e4-9857-419d-ba80-4fa0df7908ef",
   "metadata": {},
   "outputs": [
    {
     "data": {
      "image/png": "[encoded data removed]",
      "text/plain": [
       "<Figure size 1500x600 with 1 Axes>"
      ]
     },
     "metadata": {},
     "output_type": "display_data"
    }
   ],
   "source": [
    "gdp_viz = bill_country[['country', 'gdp_2022']].drop_duplicates()\n",
    "\n",
    "fig, ax = plt.subplots(figsize=(15,6))\n",
    "sns.barplot(data=gdp_viz.sort_values(by='gdp_2022', ascending=False).iloc[:20],\n",
    "            x='country',\n",
    "            y='gdp_2022',\n",
    "            palette='Oranges_r').set(title=\"Top 20 Countries by GDP\")\n",
    "plt.xticks(rotation=90)\n",
    "plt.xlabel('Country')\n",
    "plt.ylabel('GDP (current US$)');"
   ]
  },
  {
   "cell_type": "code",
   "execution_count": 76,
   "id": "668030d4-e6a4-4f4e-af19-3be70fc8867a",
   "metadata": {},
   "outputs": [
    {
     "data": {
      "image/png": "[encoded data removed]",
      "text/plain": [
       "<Figure size 1100x600 with 1 Axes>"
      ]
     },
     "metadata": {},
     "output_type": "display_data"
    }
   ],
   "source": [
    "fig, ax = plt.subplots(figsize=(11,6))\n",
    "sns.countplot(x=birthday.starSign,\n",
    "              palette='Blues',\n",
    "              order=birthday.starSign.value_counts().index).set(title=\"Billionaires Star Signs\")\n",
    "plt.xlabel('Star Sign')\n",
    "plt.ylabel('Count');"
   ]
  },
  {
   "cell_type": "code",
   "execution_count": 77,
   "id": "cf773bb8-9e6a-42ae-82c1-379f193c22ff",
   "metadata": {},
   "outputs": [
    {
     "data": {
      "text/plain": [
       "starSign\n",
       "Libra          2.800000e+09\n",
       "Pisces         2.700000e+09\n",
       "Virgo          2.650000e+09\n",
       "Aquarius       2.500000e+09\n",
       "Gemini         2.500000e+09\n",
       "Leo            2.500000e+09\n",
       "Taurus         2.500000e+09\n",
       "Scorpio        2.400000e+09\n",
       "Sagittarius    2.300000e+09\n",
       "Aries          2.200000e+09\n",
       "Cancer         2.100000e+09\n",
       "Capricorn      2.000000e+09\n",
       "Name: finalWorth, dtype: float64"
      ]
     },
     "execution_count": 77,
     "metadata": {},
     "output_type": "execute_result"
    }
   ],
   "source": [
    "ss_med = birthday.groupby(birthday.starSign)['finalWorth'].median()\n",
    "ss_med.sort_values(ascending=False, inplace=True)\n",
    "\n",
    "ss_med"
   ]
  },
  {
   "cell_type": "code",
   "execution_count": 78,
   "id": "72d31abf-8930-4bf0-b908-0cd8c45fa6fa",
   "metadata": {},
   "outputs": [
    {
     "data": {
      "image/png": "[encoded data removed]",
      "text/plain": [
       "<Figure size 1200x500 with 1 Axes>"
      ]
     },
     "metadata": {},
     "output_type": "display_data"
    }
   ],
   "source": [
    "fig, axes = plt.subplots(figsize=(12,5))\n",
    "sns.boxplot(x=birthday.starSign, \n",
    "            y=birthday.finalWorth,\n",
    "            palette='PiYG',\n",
    "            order=ss_med.index,\n",
    "            showfliers=False).set(title='Billionaire Net Worth by Star Sign')\n",
    "\n",
    "plt.xlabel('Birth Month')\n",
    "plt.ylabel('Net Worth');"
   ]
  },
  {
   "cell_type": "code",
   "execution_count": null,
   "id": "894c60c6-7eb5-4615-b970-85b56bd39b49",
   "metadata": {},
   "outputs": [],
   "source": []
  }
 ],
 "metadata": {
  "kernelspec": {
   "display_name": "Python 3 (ipykernel)",
   "language": "python",
   "name": "python3"
  },
  "language_info": {
   "codemirror_mode": {
    "name": "ipython",
    "version": 3
   },
   "file_extension": ".py",
   "mimetype": "text/x-python",
   "name": "python",
   "nbconvert_exporter": "python",
   "pygments_lexer": "ipython3",
   "version": "3.9.16"
  }
 },
 "nbformat": 4,
 "nbformat_minor": 5
}
